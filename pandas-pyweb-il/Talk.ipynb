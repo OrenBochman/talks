{
 "cells": [
  {
   "cell_type": "markdown",
   "metadata": {},
   "source": [
    "# Pandas Demo\n",
    "### Miki Tebeka, [353Solutions](http://353solutions.com)"
   ]
  },
  {
   "cell_type": "markdown",
   "metadata": {},
   "source": [
    "## Few Points Before We Dive In\n",
    "\n",
    "* Home at http://pandas.pydata.org\n",
    "* Easiest way to install is via [Anaconda](https://store.continuum.io/cshop/anaconda/)\n",
    "* Mostly used for *OSE* part of [*OSEMIC*](https://peadarcoyle.wordpress.com/2015/03/22/an-extension-of-the-data-science-process-osemic/)\n",
    "\n",
    "## What You Get\n",
    "* Reading from various sources (CSV, SQL, HDF5 ...)\n",
    "* Labeled arrays (Series, DataFrame, Panel)\n",
    "     * Fancy indexing\n",
    "* Time series handling\n",
    "* Grouping\n",
    "* Merging (Join)\n",
    "* Statistics\n",
    "* Plotting\n",
    "* Excellent [documentation](http://pandas.pydata.org/pandas-docs/stable/)\n",
    "\n",
    "## And There's a Great Book\n",
    "![pfda](http://akamaicovers.oreilly.com/images/0636920023784/cat.gif)\n",
    "\n",
    "Written by Wes McKinney, Pandas author."
   ]
  },
  {
   "cell_type": "markdown",
   "metadata": {},
   "source": [
    "## My Setup"
   ]
  },
  {
   "cell_type": "code",
   "execution_count": 289,
   "metadata": {
    "collapsed": false
   },
   "outputs": [
    {
     "name": "stdout",
     "output_type": "stream",
     "text": [
      "The watermark extension is already loaded. To reload it, use:\n",
      "  %reload_ext watermark\n",
      "05/07/2015 \n",
      "\n",
      "CPython 2.7.10\n",
      "IPython 3.2.0\n",
      "\n",
      "numpy 1.9.2\n",
      "pandas 0.16.2\n",
      "matplotlib 1.4.3\n",
      "\n",
      "compiler   : GCC 4.4.7 20120313 (Red Hat 4.4.7-1)\n",
      "system     : Linux\n",
      "release    : 4.0.7-2-ARCH\n",
      "machine    : x86_64\n",
      "processor  : \n",
      "CPU cores  : 4\n",
      "interpreter: 64bit\n"
     ]
    }
   ],
   "source": [
    "%load_ext watermark\n",
    "%watermark -e -v -m -p numpy,pandas,matplotlib"
   ]
  },
  {
   "cell_type": "code",
   "execution_count": 1,
   "metadata": {
    "collapsed": true
   },
   "outputs": [],
   "source": [
    "import pandas as pd"
   ]
  },
  {
   "cell_type": "code",
   "execution_count": 2,
   "metadata": {
    "collapsed": false
   },
   "outputs": [
    {
     "name": "stdout",
     "output_type": "stream",
     "text": [
      "8092\n"
     ]
    },
    {
     "data": {
      "text/html": [
       "<div>\n",
       "<table border=\"1\" class=\"dataframe\">\n",
       "  <thead>\n",
       "    <tr style=\"text-align: right;\">\n",
       "      <th></th>\n",
       "      <th>Open</th>\n",
       "      <th>High</th>\n",
       "      <th>Low</th>\n",
       "      <th>Last</th>\n",
       "      <th>Change</th>\n",
       "      <th>Settle</th>\n",
       "      <th>Volume</th>\n",
       "      <th>Open Interest</th>\n",
       "    </tr>\n",
       "  </thead>\n",
       "  <tbody>\n",
       "    <tr>\n",
       "      <th>count</th>\n",
       "      <td>8090.000000</td>\n",
       "      <td>8091.000000</td>\n",
       "      <td>8091.000000</td>\n",
       "      <td>44.000000</td>\n",
       "      <td>347.000000</td>\n",
       "      <td>8092.000000</td>\n",
       "      <td>8092.000000</td>\n",
       "      <td>8091.000000</td>\n",
       "    </tr>\n",
       "    <tr>\n",
       "      <th>mean</th>\n",
       "      <td>41.728881</td>\n",
       "      <td>42.278597</td>\n",
       "      <td>41.141123</td>\n",
       "      <td>90.299545</td>\n",
       "      <td>1.024006</td>\n",
       "      <td>41.751771</td>\n",
       "      <td>108943.792140</td>\n",
       "      <td>123878.724756</td>\n",
       "    </tr>\n",
       "    <tr>\n",
       "      <th>std</th>\n",
       "      <td>29.819794</td>\n",
       "      <td>30.213587</td>\n",
       "      <td>29.380209</td>\n",
       "      <td>16.532061</td>\n",
       "      <td>0.895252</td>\n",
       "      <td>29.829748</td>\n",
       "      <td>116592.537312</td>\n",
       "      <td>105253.149922</td>\n",
       "    </tr>\n",
       "    <tr>\n",
       "      <th>min</th>\n",
       "      <td>10.000000</td>\n",
       "      <td>0.000000</td>\n",
       "      <td>0.000000</td>\n",
       "      <td>53.450000</td>\n",
       "      <td>0.010000</td>\n",
       "      <td>10.420000</td>\n",
       "      <td>0.000000</td>\n",
       "      <td>0.000000</td>\n",
       "    </tr>\n",
       "    <tr>\n",
       "      <th>25%</th>\n",
       "      <td>19.532500</td>\n",
       "      <td>19.720000</td>\n",
       "      <td>19.320000</td>\n",
       "      <td>82.012500</td>\n",
       "      <td>0.405000</td>\n",
       "      <td>19.520000</td>\n",
       "      <td>30257.750000</td>\n",
       "      <td>47395.000000</td>\n",
       "    </tr>\n",
       "    <tr>\n",
       "      <th>50%</th>\n",
       "      <td>27.950000</td>\n",
       "      <td>28.250000</td>\n",
       "      <td>27.700000</td>\n",
       "      <td>97.525000</td>\n",
       "      <td>0.770000</td>\n",
       "      <td>27.970000</td>\n",
       "      <td>57369.000000</td>\n",
       "      <td>87951.000000</td>\n",
       "    </tr>\n",
       "    <tr>\n",
       "      <th>75%</th>\n",
       "      <td>62.050000</td>\n",
       "      <td>62.800000</td>\n",
       "      <td>61.200000</td>\n",
       "      <td>102.550000</td>\n",
       "      <td>1.470000</td>\n",
       "      <td>62.012500</td>\n",
       "      <td>153916.500000</td>\n",
       "      <td>176242.000000</td>\n",
       "    </tr>\n",
       "    <tr>\n",
       "      <th>max</th>\n",
       "      <td>145.190000</td>\n",
       "      <td>147.270000</td>\n",
       "      <td>143.220000</td>\n",
       "      <td>107.300000</td>\n",
       "      <td>7.540000</td>\n",
       "      <td>145.290000</td>\n",
       "      <td>670082.000000</td>\n",
       "      <td>529039.000000</td>\n",
       "    </tr>\n",
       "  </tbody>\n",
       "</table>\n",
       "</div>"
      ],
      "text/plain": [
       "              Open         High          Low        Last      Change  \\\n",
       "count  8090.000000  8091.000000  8091.000000   44.000000  347.000000   \n",
       "mean     41.728881    42.278597    41.141123   90.299545    1.024006   \n",
       "std      29.819794    30.213587    29.380209   16.532061    0.895252   \n",
       "min      10.000000     0.000000     0.000000   53.450000    0.010000   \n",
       "25%      19.532500    19.720000    19.320000   82.012500    0.405000   \n",
       "50%      27.950000    28.250000    27.700000   97.525000    0.770000   \n",
       "75%      62.050000    62.800000    61.200000  102.550000    1.470000   \n",
       "max     145.190000   147.270000   143.220000  107.300000    7.540000   \n",
       "\n",
       "            Settle         Volume  Open Interest  \n",
       "count  8092.000000    8092.000000    8091.000000  \n",
       "mean     41.751771  108943.792140  123878.724756  \n",
       "std      29.829748  116592.537312  105253.149922  \n",
       "min      10.420000       0.000000       0.000000  \n",
       "25%      19.520000   30257.750000   47395.000000  \n",
       "50%      27.970000   57369.000000   87951.000000  \n",
       "75%      62.012500  153916.500000  176242.000000  \n",
       "max     145.290000  670082.000000  529039.000000  "
      ]
     },
     "execution_count": 2,
     "metadata": {},
     "output_type": "execute_result"
    }
   ],
   "source": [
    "df = pd.read_csv('CME_CL1.csv')\n",
    "print(len(df))\n",
    "df.describe()"
   ]
  },
  {
   "cell_type": "code",
   "execution_count": 3,
   "metadata": {
    "collapsed": true
   },
   "outputs": [],
   "source": [
    "# quandl"
   ]
  },
  {
   "cell_type": "code",
   "execution_count": 4,
   "metadata": {
    "collapsed": false
   },
   "outputs": [
    {
     "data": {
      "text/plain": [
       "Index([u'Date', u'Open', u'High', u'Low', u'Last', u'Change', u'Settle',\n",
       "       u'Volume', u'Open Interest'],\n",
       "      dtype='object')"
      ]
     },
     "execution_count": 4,
     "metadata": {},
     "output_type": "execute_result"
    }
   ],
   "source": [
    "df.columns"
   ]
  },
  {
   "cell_type": "code",
   "execution_count": 5,
   "metadata": {
    "collapsed": false
   },
   "outputs": [
    {
     "data": {
      "text/plain": [
       "Date              object\n",
       "Open             float64\n",
       "High             float64\n",
       "Low              float64\n",
       "Last             float64\n",
       "Change           float64\n",
       "Settle           float64\n",
       "Volume           float64\n",
       "Open Interest    float64\n",
       "dtype: object"
      ]
     },
     "execution_count": 5,
     "metadata": {},
     "output_type": "execute_result"
    }
   ],
   "source": [
    "df.dtypes"
   ]
  },
  {
   "cell_type": "code",
   "execution_count": 6,
   "metadata": {
    "collapsed": false
   },
   "outputs": [
    {
     "data": {
      "text/html": [
       "<div>\n",
       "<table border=\"1\" class=\"dataframe\">\n",
       "  <thead>\n",
       "    <tr style=\"text-align: right;\">\n",
       "      <th></th>\n",
       "      <th>Date</th>\n",
       "      <th>Open</th>\n",
       "      <th>High</th>\n",
       "      <th>Low</th>\n",
       "      <th>Last</th>\n",
       "      <th>Change</th>\n",
       "      <th>Settle</th>\n",
       "      <th>Volume</th>\n",
       "      <th>Open Interest</th>\n",
       "    </tr>\n",
       "  </thead>\n",
       "  <tbody>\n",
       "    <tr>\n",
       "      <th>0</th>\n",
       "      <td>2015-07-02</td>\n",
       "      <td>56.87</td>\n",
       "      <td>57.95</td>\n",
       "      <td>56.50</td>\n",
       "      <td>NaN</td>\n",
       "      <td>0.03</td>\n",
       "      <td>56.93</td>\n",
       "      <td>297046</td>\n",
       "      <td>326973</td>\n",
       "    </tr>\n",
       "    <tr>\n",
       "      <th>1</th>\n",
       "      <td>2015-07-01</td>\n",
       "      <td>58.98</td>\n",
       "      <td>58.98</td>\n",
       "      <td>56.68</td>\n",
       "      <td>NaN</td>\n",
       "      <td>2.51</td>\n",
       "      <td>56.96</td>\n",
       "      <td>373405</td>\n",
       "      <td>319172</td>\n",
       "    </tr>\n",
       "    <tr>\n",
       "      <th>2</th>\n",
       "      <td>2015-06-30</td>\n",
       "      <td>58.27</td>\n",
       "      <td>59.69</td>\n",
       "      <td>57.94</td>\n",
       "      <td>59.4</td>\n",
       "      <td>1.14</td>\n",
       "      <td>59.47</td>\n",
       "      <td>282364</td>\n",
       "      <td>331764</td>\n",
       "    </tr>\n",
       "    <tr>\n",
       "      <th>3</th>\n",
       "      <td>2015-06-29</td>\n",
       "      <td>58.84</td>\n",
       "      <td>59.27</td>\n",
       "      <td>58.04</td>\n",
       "      <td>NaN</td>\n",
       "      <td>1.30</td>\n",
       "      <td>58.33</td>\n",
       "      <td>286035</td>\n",
       "      <td>332326</td>\n",
       "    </tr>\n",
       "    <tr>\n",
       "      <th>4</th>\n",
       "      <td>2015-06-26</td>\n",
       "      <td>59.66</td>\n",
       "      <td>59.96</td>\n",
       "      <td>58.76</td>\n",
       "      <td>NaN</td>\n",
       "      <td>0.07</td>\n",
       "      <td>59.63</td>\n",
       "      <td>231868</td>\n",
       "      <td>329016</td>\n",
       "    </tr>\n",
       "  </tbody>\n",
       "</table>\n",
       "</div>"
      ],
      "text/plain": [
       "         Date   Open   High    Low  Last  Change  Settle  Volume  \\\n",
       "0  2015-07-02  56.87  57.95  56.50   NaN    0.03   56.93  297046   \n",
       "1  2015-07-01  58.98  58.98  56.68   NaN    2.51   56.96  373405   \n",
       "2  2015-06-30  58.27  59.69  57.94  59.4    1.14   59.47  282364   \n",
       "3  2015-06-29  58.84  59.27  58.04   NaN    1.30   58.33  286035   \n",
       "4  2015-06-26  59.66  59.96  58.76   NaN    0.07   59.63  231868   \n",
       "\n",
       "   Open Interest  \n",
       "0         326973  \n",
       "1         319172  \n",
       "2         331764  \n",
       "3         332326  \n",
       "4         329016  "
      ]
     },
     "execution_count": 6,
     "metadata": {},
     "output_type": "execute_result"
    }
   ],
   "source": [
    "df.head()"
   ]
  },
  {
   "cell_type": "code",
   "execution_count": 8,
   "metadata": {
    "collapsed": false
   },
   "outputs": [
    {
     "data": {
      "text/html": [
       "<div>\n",
       "<table border=\"1\" class=\"dataframe\">\n",
       "  <thead>\n",
       "    <tr style=\"text-align: right;\">\n",
       "      <th></th>\n",
       "      <th>Date</th>\n",
       "      <th>Open</th>\n",
       "      <th>High</th>\n",
       "      <th>Low</th>\n",
       "      <th>Last</th>\n",
       "      <th>Change</th>\n",
       "      <th>Settle</th>\n",
       "      <th>Volume</th>\n",
       "      <th>Open Interest</th>\n",
       "    </tr>\n",
       "    <tr>\n",
       "      <th>Date</th>\n",
       "      <th></th>\n",
       "      <th></th>\n",
       "      <th></th>\n",
       "      <th></th>\n",
       "      <th></th>\n",
       "      <th></th>\n",
       "      <th></th>\n",
       "      <th></th>\n",
       "      <th></th>\n",
       "    </tr>\n",
       "  </thead>\n",
       "  <tbody>\n",
       "    <tr>\n",
       "      <th>2015-07-02</th>\n",
       "      <td>2015-07-02</td>\n",
       "      <td>56.87</td>\n",
       "      <td>57.95</td>\n",
       "      <td>56.50</td>\n",
       "      <td>NaN</td>\n",
       "      <td>0.03</td>\n",
       "      <td>56.93</td>\n",
       "      <td>297046</td>\n",
       "      <td>326973</td>\n",
       "    </tr>\n",
       "    <tr>\n",
       "      <th>2015-07-01</th>\n",
       "      <td>2015-07-01</td>\n",
       "      <td>58.98</td>\n",
       "      <td>58.98</td>\n",
       "      <td>56.68</td>\n",
       "      <td>NaN</td>\n",
       "      <td>2.51</td>\n",
       "      <td>56.96</td>\n",
       "      <td>373405</td>\n",
       "      <td>319172</td>\n",
       "    </tr>\n",
       "    <tr>\n",
       "      <th>2015-06-30</th>\n",
       "      <td>2015-06-30</td>\n",
       "      <td>58.27</td>\n",
       "      <td>59.69</td>\n",
       "      <td>57.94</td>\n",
       "      <td>59.4</td>\n",
       "      <td>1.14</td>\n",
       "      <td>59.47</td>\n",
       "      <td>282364</td>\n",
       "      <td>331764</td>\n",
       "    </tr>\n",
       "    <tr>\n",
       "      <th>2015-06-29</th>\n",
       "      <td>2015-06-29</td>\n",
       "      <td>58.84</td>\n",
       "      <td>59.27</td>\n",
       "      <td>58.04</td>\n",
       "      <td>NaN</td>\n",
       "      <td>1.30</td>\n",
       "      <td>58.33</td>\n",
       "      <td>286035</td>\n",
       "      <td>332326</td>\n",
       "    </tr>\n",
       "    <tr>\n",
       "      <th>2015-06-26</th>\n",
       "      <td>2015-06-26</td>\n",
       "      <td>59.66</td>\n",
       "      <td>59.96</td>\n",
       "      <td>58.76</td>\n",
       "      <td>NaN</td>\n",
       "      <td>0.07</td>\n",
       "      <td>59.63</td>\n",
       "      <td>231868</td>\n",
       "      <td>329016</td>\n",
       "    </tr>\n",
       "  </tbody>\n",
       "</table>\n",
       "</div>"
      ],
      "text/plain": [
       "                  Date   Open   High    Low  Last  Change  Settle  Volume  \\\n",
       "Date                                                                        \n",
       "2015-07-02  2015-07-02  56.87  57.95  56.50   NaN    0.03   56.93  297046   \n",
       "2015-07-01  2015-07-01  58.98  58.98  56.68   NaN    2.51   56.96  373405   \n",
       "2015-06-30  2015-06-30  58.27  59.69  57.94  59.4    1.14   59.47  282364   \n",
       "2015-06-29  2015-06-29  58.84  59.27  58.04   NaN    1.30   58.33  286035   \n",
       "2015-06-26  2015-06-26  59.66  59.96  58.76   NaN    0.07   59.63  231868   \n",
       "\n",
       "            Open Interest  \n",
       "Date                       \n",
       "2015-07-02         326973  \n",
       "2015-07-01         319172  \n",
       "2015-06-30         331764  \n",
       "2015-06-29         332326  \n",
       "2015-06-26         329016  "
      ]
     },
     "execution_count": 8,
     "metadata": {},
     "output_type": "execute_result"
    }
   ],
   "source": [
    "df.index = pd.to_datetime(df['Date'])\n",
    "df.head()"
   ]
  },
  {
   "cell_type": "code",
   "execution_count": 9,
   "metadata": {
    "collapsed": false
   },
   "outputs": [
    {
     "data": {
      "text/html": [
       "<div>\n",
       "<table border=\"1\" class=\"dataframe\">\n",
       "  <thead>\n",
       "    <tr style=\"text-align: right;\">\n",
       "      <th></th>\n",
       "      <th>Open</th>\n",
       "      <th>High</th>\n",
       "      <th>Low</th>\n",
       "      <th>Last</th>\n",
       "      <th>Change</th>\n",
       "      <th>Settle</th>\n",
       "      <th>Volume</th>\n",
       "      <th>Open Interest</th>\n",
       "    </tr>\n",
       "    <tr>\n",
       "      <th>Date</th>\n",
       "      <th></th>\n",
       "      <th></th>\n",
       "      <th></th>\n",
       "      <th></th>\n",
       "      <th></th>\n",
       "      <th></th>\n",
       "      <th></th>\n",
       "      <th></th>\n",
       "    </tr>\n",
       "  </thead>\n",
       "  <tbody>\n",
       "    <tr>\n",
       "      <th>2015-07-02</th>\n",
       "      <td>56.87</td>\n",
       "      <td>57.95</td>\n",
       "      <td>56.50</td>\n",
       "      <td>NaN</td>\n",
       "      <td>0.03</td>\n",
       "      <td>56.93</td>\n",
       "      <td>297046</td>\n",
       "      <td>326973</td>\n",
       "    </tr>\n",
       "    <tr>\n",
       "      <th>2015-07-01</th>\n",
       "      <td>58.98</td>\n",
       "      <td>58.98</td>\n",
       "      <td>56.68</td>\n",
       "      <td>NaN</td>\n",
       "      <td>2.51</td>\n",
       "      <td>56.96</td>\n",
       "      <td>373405</td>\n",
       "      <td>319172</td>\n",
       "    </tr>\n",
       "    <tr>\n",
       "      <th>2015-06-30</th>\n",
       "      <td>58.27</td>\n",
       "      <td>59.69</td>\n",
       "      <td>57.94</td>\n",
       "      <td>59.4</td>\n",
       "      <td>1.14</td>\n",
       "      <td>59.47</td>\n",
       "      <td>282364</td>\n",
       "      <td>331764</td>\n",
       "    </tr>\n",
       "    <tr>\n",
       "      <th>2015-06-29</th>\n",
       "      <td>58.84</td>\n",
       "      <td>59.27</td>\n",
       "      <td>58.04</td>\n",
       "      <td>NaN</td>\n",
       "      <td>1.30</td>\n",
       "      <td>58.33</td>\n",
       "      <td>286035</td>\n",
       "      <td>332326</td>\n",
       "    </tr>\n",
       "    <tr>\n",
       "      <th>2015-06-26</th>\n",
       "      <td>59.66</td>\n",
       "      <td>59.96</td>\n",
       "      <td>58.76</td>\n",
       "      <td>NaN</td>\n",
       "      <td>0.07</td>\n",
       "      <td>59.63</td>\n",
       "      <td>231868</td>\n",
       "      <td>329016</td>\n",
       "    </tr>\n",
       "  </tbody>\n",
       "</table>\n",
       "</div>"
      ],
      "text/plain": [
       "             Open   High    Low  Last  Change  Settle  Volume  Open Interest\n",
       "Date                                                                        \n",
       "2015-07-02  56.87  57.95  56.50   NaN    0.03   56.93  297046         326973\n",
       "2015-07-01  58.98  58.98  56.68   NaN    2.51   56.96  373405         319172\n",
       "2015-06-30  58.27  59.69  57.94  59.4    1.14   59.47  282364         331764\n",
       "2015-06-29  58.84  59.27  58.04   NaN    1.30   58.33  286035         332326\n",
       "2015-06-26  59.66  59.96  58.76   NaN    0.07   59.63  231868         329016"
      ]
     },
     "execution_count": 9,
     "metadata": {},
     "output_type": "execute_result"
    }
   ],
   "source": [
    "df = pd.read_csv('CME_CL1.csv', parse_dates=['Date'], index_col='Date')\n",
    "df.head()"
   ]
  },
  {
   "cell_type": "code",
   "execution_count": 10,
   "metadata": {
    "collapsed": false
   },
   "outputs": [
    {
     "name": "stdout",
     "output_type": "stream",
     "text": [
      "42.2785972068\n"
     ]
    }
   ],
   "source": [
    "print(df['High'].mean())"
   ]
  },
  {
   "cell_type": "code",
   "execution_count": 11,
   "metadata": {
    "collapsed": false
   },
   "outputs": [
    {
     "data": {
      "text/plain": [
       "Date\n",
       "2015-07-02     True\n",
       "2015-07-01     True\n",
       "2015-06-30     True\n",
       "2015-06-29     True\n",
       "2015-06-26     True\n",
       "2015-06-25     True\n",
       "2015-06-24     True\n",
       "2015-06-23     True\n",
       "2015-06-22     True\n",
       "2015-06-19     True\n",
       "2015-06-18     True\n",
       "2015-06-17     True\n",
       "2015-06-16     True\n",
       "2015-06-15     True\n",
       "2015-06-12     True\n",
       "2015-06-11     True\n",
       "2015-06-10     True\n",
       "2015-06-09     True\n",
       "2015-06-08     True\n",
       "2015-06-05     True\n",
       "2015-06-04     True\n",
       "2015-06-03     True\n",
       "2015-06-02     True\n",
       "2015-06-01     True\n",
       "2015-05-29     True\n",
       "2015-05-28     True\n",
       "2015-05-27     True\n",
       "2015-05-26     True\n",
       "2015-05-22     True\n",
       "2015-05-21     True\n",
       "              ...  \n",
       "1983-05-11    False\n",
       "1983-05-10    False\n",
       "1983-05-09    False\n",
       "1983-05-06    False\n",
       "1983-05-05    False\n",
       "1983-05-04    False\n",
       "1983-05-03    False\n",
       "1983-05-02    False\n",
       "1983-04-29    False\n",
       "1983-04-28    False\n",
       "1983-04-27    False\n",
       "1983-04-26    False\n",
       "1983-04-25    False\n",
       "1983-04-22    False\n",
       "1983-04-21    False\n",
       "1983-04-20    False\n",
       "1983-04-19    False\n",
       "1983-04-18    False\n",
       "1983-04-15    False\n",
       "1983-04-14    False\n",
       "1983-04-13    False\n",
       "1983-04-12    False\n",
       "1983-04-11    False\n",
       "1983-04-08    False\n",
       "1983-04-07    False\n",
       "1983-04-06    False\n",
       "1983-04-05    False\n",
       "1983-04-04    False\n",
       "1983-03-31    False\n",
       "1983-03-30    False\n",
       "Name: High, dtype: bool"
      ]
     },
     "execution_count": 11,
     "metadata": {},
     "output_type": "execute_result"
    }
   ],
   "source": [
    "df['High'] > df['High'].mean()"
   ]
  },
  {
   "cell_type": "code",
   "execution_count": 12,
   "metadata": {
    "collapsed": false
   },
   "outputs": [
    {
     "name": "stdout",
     "output_type": "stream",
     "text": [
      "2719\n"
     ]
    },
    {
     "data": {
      "text/html": [
       "<div>\n",
       "<table border=\"1\" class=\"dataframe\">\n",
       "  <thead>\n",
       "    <tr style=\"text-align: right;\">\n",
       "      <th></th>\n",
       "      <th>Open</th>\n",
       "      <th>High</th>\n",
       "      <th>Low</th>\n",
       "      <th>Last</th>\n",
       "      <th>Change</th>\n",
       "      <th>Settle</th>\n",
       "      <th>Volume</th>\n",
       "      <th>Open Interest</th>\n",
       "    </tr>\n",
       "    <tr>\n",
       "      <th>Date</th>\n",
       "      <th></th>\n",
       "      <th></th>\n",
       "      <th></th>\n",
       "      <th></th>\n",
       "      <th></th>\n",
       "      <th></th>\n",
       "      <th></th>\n",
       "      <th></th>\n",
       "    </tr>\n",
       "  </thead>\n",
       "  <tbody>\n",
       "    <tr>\n",
       "      <th>2015-07-02</th>\n",
       "      <td>56.87</td>\n",
       "      <td>57.95</td>\n",
       "      <td>56.50</td>\n",
       "      <td>NaN</td>\n",
       "      <td>0.03</td>\n",
       "      <td>56.93</td>\n",
       "      <td>297046</td>\n",
       "      <td>326973</td>\n",
       "    </tr>\n",
       "    <tr>\n",
       "      <th>2015-07-01</th>\n",
       "      <td>58.98</td>\n",
       "      <td>58.98</td>\n",
       "      <td>56.68</td>\n",
       "      <td>NaN</td>\n",
       "      <td>2.51</td>\n",
       "      <td>56.96</td>\n",
       "      <td>373405</td>\n",
       "      <td>319172</td>\n",
       "    </tr>\n",
       "    <tr>\n",
       "      <th>2015-06-30</th>\n",
       "      <td>58.27</td>\n",
       "      <td>59.69</td>\n",
       "      <td>57.94</td>\n",
       "      <td>59.4</td>\n",
       "      <td>1.14</td>\n",
       "      <td>59.47</td>\n",
       "      <td>282364</td>\n",
       "      <td>331764</td>\n",
       "    </tr>\n",
       "    <tr>\n",
       "      <th>2015-06-29</th>\n",
       "      <td>58.84</td>\n",
       "      <td>59.27</td>\n",
       "      <td>58.04</td>\n",
       "      <td>NaN</td>\n",
       "      <td>1.30</td>\n",
       "      <td>58.33</td>\n",
       "      <td>286035</td>\n",
       "      <td>332326</td>\n",
       "    </tr>\n",
       "    <tr>\n",
       "      <th>2015-06-26</th>\n",
       "      <td>59.66</td>\n",
       "      <td>59.96</td>\n",
       "      <td>58.76</td>\n",
       "      <td>NaN</td>\n",
       "      <td>0.07</td>\n",
       "      <td>59.63</td>\n",
       "      <td>231868</td>\n",
       "      <td>329016</td>\n",
       "    </tr>\n",
       "  </tbody>\n",
       "</table>\n",
       "</div>"
      ],
      "text/plain": [
       "             Open   High    Low  Last  Change  Settle  Volume  Open Interest\n",
       "Date                                                                        \n",
       "2015-07-02  56.87  57.95  56.50   NaN    0.03   56.93  297046         326973\n",
       "2015-07-01  58.98  58.98  56.68   NaN    2.51   56.96  373405         319172\n",
       "2015-06-30  58.27  59.69  57.94  59.4    1.14   59.47  282364         331764\n",
       "2015-06-29  58.84  59.27  58.04   NaN    1.30   58.33  286035         332326\n",
       "2015-06-26  59.66  59.96  58.76   NaN    0.07   59.63  231868         329016"
      ]
     },
     "execution_count": 12,
     "metadata": {},
     "output_type": "execute_result"
    }
   ],
   "source": [
    "highs = df[df['High'] > df['High'].mean()]\n",
    "print(len(highs))\n",
    "highs.head()"
   ]
  },
  {
   "cell_type": "code",
   "execution_count": 13,
   "metadata": {
    "collapsed": false
   },
   "outputs": [
    {
     "data": {
      "text/html": [
       "<div>\n",
       "<table border=\"1\" class=\"dataframe\">\n",
       "  <thead>\n",
       "    <tr style=\"text-align: right;\">\n",
       "      <th></th>\n",
       "      <th>Open</th>\n",
       "      <th>High</th>\n",
       "      <th>Low</th>\n",
       "      <th>Last</th>\n",
       "      <th>Change</th>\n",
       "      <th>Settle</th>\n",
       "      <th>Volume</th>\n",
       "      <th>Open Interest</th>\n",
       "    </tr>\n",
       "    <tr>\n",
       "      <th>Date</th>\n",
       "      <th></th>\n",
       "      <th></th>\n",
       "      <th></th>\n",
       "      <th></th>\n",
       "      <th></th>\n",
       "      <th></th>\n",
       "      <th></th>\n",
       "      <th></th>\n",
       "    </tr>\n",
       "  </thead>\n",
       "  <tbody>\n",
       "    <tr>\n",
       "      <th>2015-06-30</th>\n",
       "      <td>58.27</td>\n",
       "      <td>59.69</td>\n",
       "      <td>57.94</td>\n",
       "      <td>59.4</td>\n",
       "      <td>1.14</td>\n",
       "      <td>59.47</td>\n",
       "      <td>282364</td>\n",
       "      <td>331764</td>\n",
       "    </tr>\n",
       "    <tr>\n",
       "      <th>2015-06-23</th>\n",
       "      <td>60.21</td>\n",
       "      <td>61.49</td>\n",
       "      <td>59.55</td>\n",
       "      <td>NaN</td>\n",
       "      <td>0.63</td>\n",
       "      <td>61.01</td>\n",
       "      <td>336224</td>\n",
       "      <td>332929</td>\n",
       "    </tr>\n",
       "    <tr>\n",
       "      <th>2015-06-16</th>\n",
       "      <td>59.60</td>\n",
       "      <td>60.37</td>\n",
       "      <td>59.42</td>\n",
       "      <td>NaN</td>\n",
       "      <td>0.45</td>\n",
       "      <td>59.97</td>\n",
       "      <td>233621</td>\n",
       "      <td>110232</td>\n",
       "    </tr>\n",
       "    <tr>\n",
       "      <th>2015-06-09</th>\n",
       "      <td>58.31</td>\n",
       "      <td>60.68</td>\n",
       "      <td>58.23</td>\n",
       "      <td>NaN</td>\n",
       "      <td>2.00</td>\n",
       "      <td>60.14</td>\n",
       "      <td>405385</td>\n",
       "      <td>271926</td>\n",
       "    </tr>\n",
       "    <tr>\n",
       "      <th>2015-06-02</th>\n",
       "      <td>60.18</td>\n",
       "      <td>61.58</td>\n",
       "      <td>60.09</td>\n",
       "      <td>NaN</td>\n",
       "      <td>1.06</td>\n",
       "      <td>61.26</td>\n",
       "      <td>344508</td>\n",
       "      <td>372076</td>\n",
       "    </tr>\n",
       "  </tbody>\n",
       "</table>\n",
       "</div>"
      ],
      "text/plain": [
       "             Open   High    Low  Last  Change  Settle  Volume  Open Interest\n",
       "Date                                                                        \n",
       "2015-06-30  58.27  59.69  57.94  59.4    1.14   59.47  282364         331764\n",
       "2015-06-23  60.21  61.49  59.55   NaN    0.63   61.01  336224         332929\n",
       "2015-06-16  59.60  60.37  59.42   NaN    0.45   59.97  233621         110232\n",
       "2015-06-09  58.31  60.68  58.23   NaN    2.00   60.14  405385         271926\n",
       "2015-06-02  60.18  61.58  60.09   NaN    1.06   61.26  344508         372076"
      ]
     },
     "execution_count": 13,
     "metadata": {},
     "output_type": "execute_result"
    }
   ],
   "source": [
    "from calendar import TUESDAY\n",
    "df[df.index.dayofweek == TUESDAY].head()"
   ]
  },
  {
   "cell_type": "code",
   "execution_count": 14,
   "metadata": {
    "collapsed": false
   },
   "outputs": [
    {
     "name": "stdout",
     "output_type": "stream",
     "text": [
      "     June 2015\n",
      "Mo Tu We Th Fr Sa Su\n",
      " 1  2  3  4  5  6  7\n",
      " 8  9 10 11 12 13 14\n",
      "15 16 17 18 19 20 21\n",
      "22 23 24 25 26 27 28\n",
      "29 30\n",
      "\n"
     ]
    }
   ],
   "source": [
    "from calendar import month\n",
    "print(month(2015, 6))"
   ]
  },
  {
   "cell_type": "code",
   "execution_count": 16,
   "metadata": {
    "collapsed": false
   },
   "outputs": [
    {
     "data": {
      "text/html": [
       "<div>\n",
       "<table border=\"1\" class=\"dataframe\">\n",
       "  <thead>\n",
       "    <tr style=\"text-align: right;\">\n",
       "      <th></th>\n",
       "      <th>Open</th>\n",
       "      <th>High</th>\n",
       "      <th>Low</th>\n",
       "      <th>Last</th>\n",
       "      <th>Change</th>\n",
       "      <th>Settle</th>\n",
       "      <th>Volume</th>\n",
       "      <th>Open Interest</th>\n",
       "    </tr>\n",
       "    <tr>\n",
       "      <th>Date</th>\n",
       "      <th></th>\n",
       "      <th></th>\n",
       "      <th></th>\n",
       "      <th></th>\n",
       "      <th></th>\n",
       "      <th></th>\n",
       "      <th></th>\n",
       "      <th></th>\n",
       "    </tr>\n",
       "  </thead>\n",
       "  <tbody>\n",
       "    <tr>\n",
       "      <th>2015-07-02</th>\n",
       "      <td>56.87</td>\n",
       "      <td>57.95</td>\n",
       "      <td>56.50</td>\n",
       "      <td>NaN</td>\n",
       "      <td>0.03</td>\n",
       "      <td>56.93</td>\n",
       "      <td>297046</td>\n",
       "      <td>326973</td>\n",
       "    </tr>\n",
       "    <tr>\n",
       "      <th>2015-07-01</th>\n",
       "      <td>58.98</td>\n",
       "      <td>58.98</td>\n",
       "      <td>56.68</td>\n",
       "      <td>NaN</td>\n",
       "      <td>2.51</td>\n",
       "      <td>56.96</td>\n",
       "      <td>373405</td>\n",
       "      <td>319172</td>\n",
       "    </tr>\n",
       "  </tbody>\n",
       "</table>\n",
       "</div>"
      ],
      "text/plain": [
       "             Open   High    Low  Last  Change  Settle  Volume  Open Interest\n",
       "Date                                                                        \n",
       "2015-07-02  56.87  57.95  56.50   NaN    0.03   56.93  297046         326973\n",
       "2015-07-01  58.98  58.98  56.68   NaN    2.51   56.96  373405         319172"
      ]
     },
     "execution_count": 16,
     "metadata": {},
     "output_type": "execute_result"
    }
   ],
   "source": [
    "# .loc - by label\n",
    "# .iloc - by offset\n",
    "# .ix - tries to do the right thing\n",
    "df.loc['2015-07']"
   ]
  },
  {
   "cell_type": "code",
   "execution_count": 17,
   "metadata": {
    "collapsed": false
   },
   "outputs": [
    {
     "data": {
      "text/html": [
       "<div>\n",
       "<table border=\"1\" class=\"dataframe\">\n",
       "  <thead>\n",
       "    <tr style=\"text-align: right;\">\n",
       "      <th></th>\n",
       "      <th>Open</th>\n",
       "      <th>Volume</th>\n",
       "    </tr>\n",
       "    <tr>\n",
       "      <th>Date</th>\n",
       "      <th></th>\n",
       "      <th></th>\n",
       "    </tr>\n",
       "  </thead>\n",
       "  <tbody>\n",
       "    <tr>\n",
       "      <th>2014-12-31</th>\n",
       "      <td>53.87</td>\n",
       "      <td>247510</td>\n",
       "    </tr>\n",
       "    <tr>\n",
       "      <th>2014-12-30</th>\n",
       "      <td>53.72</td>\n",
       "      <td>230228</td>\n",
       "    </tr>\n",
       "    <tr>\n",
       "      <th>2014-12-29</th>\n",
       "      <td>55.05</td>\n",
       "      <td>253089</td>\n",
       "    </tr>\n",
       "    <tr>\n",
       "      <th>2014-12-26</th>\n",
       "      <td>55.86</td>\n",
       "      <td>138280</td>\n",
       "    </tr>\n",
       "    <tr>\n",
       "      <th>2014-12-24</th>\n",
       "      <td>56.80</td>\n",
       "      <td>174969</td>\n",
       "    </tr>\n",
       "  </tbody>\n",
       "</table>\n",
       "</div>"
      ],
      "text/plain": [
       "             Open  Volume\n",
       "Date                     \n",
       "2014-12-31  53.87  247510\n",
       "2014-12-30  53.72  230228\n",
       "2014-12-29  55.05  253089\n",
       "2014-12-26  55.86  138280\n",
       "2014-12-24  56.80  174969"
      ]
     },
     "execution_count": 17,
     "metadata": {},
     "output_type": "execute_result"
    }
   ],
   "source": [
    "df.ix['2014', ['Open', 'Volume']].head()"
   ]
  },
  {
   "cell_type": "code",
   "execution_count": 19,
   "metadata": {
    "collapsed": false
   },
   "outputs": [
    {
     "data": {
      "text/plain": [
       "Date\n",
       "2015-07-02    1.45\n",
       "2015-07-01    2.30\n",
       "2015-06-30    1.75\n",
       "2015-06-29    1.23\n",
       "2015-06-26    1.20\n",
       "Name: Diff, dtype: float64"
      ]
     },
     "execution_count": 19,
     "metadata": {},
     "output_type": "execute_result"
    }
   ],
   "source": [
    "df['Diff'] = df['High'] - df['Low']\n",
    "df['Diff'].head()"
   ]
  },
  {
   "cell_type": "code",
   "execution_count": 20,
   "metadata": {
    "collapsed": false
   },
   "outputs": [
    {
     "name": "stdout",
     "output_type": "stream",
     "text": [
      "16\n"
     ]
    }
   ],
   "source": [
    "print(len(df[df['Diff'] == 0]))"
   ]
  },
  {
   "cell_type": "code",
   "execution_count": 22,
   "metadata": {
    "collapsed": false
   },
   "outputs": [
    {
     "data": {
      "text/plain": [
       "Date\n",
       "2015-07-02    hold\n",
       "2015-07-01    sell\n",
       "2015-06-30    hold\n",
       "2015-06-29    hold\n",
       "2015-06-26    hold\n",
       "Name: Signal, dtype: category\n",
       "Categories (3, object): [buy, hold, sell]"
      ]
     },
     "execution_count": 22,
     "metadata": {},
     "output_type": "execute_result"
    }
   ],
   "source": [
    "def signal(diff):\n",
    "    if diff < -1:\n",
    "        return 'sell'\n",
    "    elif diff > 1:\n",
    "        return 'buy'\n",
    "    else:\n",
    "        return 'hold'\n",
    "    \n",
    "price = df['High']\n",
    "shifted = price.shift()\n",
    "diff = shifted - price\n",
    "sig = diff.apply(signal)\n",
    "df['Signal'] = sig.astype('category')\n",
    "df['Signal'].head()"
   ]
  },
  {
   "cell_type": "code",
   "execution_count": 23,
   "metadata": {
    "collapsed": false
   },
   "outputs": [
    {
     "data": {
      "text/html": [
       "<div>\n",
       "<table border=\"1\" class=\"dataframe\">\n",
       "  <thead>\n",
       "    <tr style=\"text-align: right;\">\n",
       "      <th></th>\n",
       "      <th>index</th>\n",
       "      <th>AWND</th>\n",
       "      <th>SNOW</th>\n",
       "      <th>SNWD</th>\n",
       "      <th>STATION</th>\n",
       "      <th>STATION_NAME</th>\n",
       "      <th>TMAX</th>\n",
       "      <th>TMIN</th>\n",
       "      <th>TOBS</th>\n",
       "      <th>TSUN</th>\n",
       "      <th>...</th>\n",
       "      <th>WT08</th>\n",
       "      <th>WT09</th>\n",
       "      <th>WT10</th>\n",
       "      <th>WT11</th>\n",
       "      <th>WT14</th>\n",
       "      <th>WT15</th>\n",
       "      <th>WT16</th>\n",
       "      <th>WT17</th>\n",
       "      <th>WT18</th>\n",
       "      <th>WT22</th>\n",
       "    </tr>\n",
       "    <tr>\n",
       "      <th>DATE</th>\n",
       "      <th></th>\n",
       "      <th></th>\n",
       "      <th></th>\n",
       "      <th></th>\n",
       "      <th></th>\n",
       "      <th></th>\n",
       "      <th></th>\n",
       "      <th></th>\n",
       "      <th></th>\n",
       "      <th></th>\n",
       "      <th></th>\n",
       "      <th></th>\n",
       "      <th></th>\n",
       "      <th></th>\n",
       "      <th></th>\n",
       "      <th></th>\n",
       "      <th></th>\n",
       "      <th></th>\n",
       "      <th></th>\n",
       "      <th></th>\n",
       "      <th></th>\n",
       "    </tr>\n",
       "  </thead>\n",
       "  <tbody>\n",
       "    <tr>\n",
       "      <th>1983-03-30</th>\n",
       "      <td>18677</td>\n",
       "      <td>-9999</td>\n",
       "      <td>0</td>\n",
       "      <td>NaN</td>\n",
       "      <td>GHCND:USW00094846</td>\n",
       "      <td>CHICAGO OHARE INTERNATIONAL AIRPORT IL US</td>\n",
       "      <td>78</td>\n",
       "      <td>0</td>\n",
       "      <td>-9999</td>\n",
       "      <td>246</td>\n",
       "      <td>...</td>\n",
       "      <td>-9999</td>\n",
       "      <td>-9999</td>\n",
       "      <td>-9999</td>\n",
       "      <td>-9999</td>\n",
       "      <td>-9999</td>\n",
       "      <td>-9999</td>\n",
       "      <td>1</td>\n",
       "      <td>-9999</td>\n",
       "      <td>-9999</td>\n",
       "      <td>-9999</td>\n",
       "    </tr>\n",
       "    <tr>\n",
       "      <th>1983-03-31</th>\n",
       "      <td>18678</td>\n",
       "      <td>-9999</td>\n",
       "      <td>0</td>\n",
       "      <td>NaN</td>\n",
       "      <td>GHCND:USW00094846</td>\n",
       "      <td>CHICAGO OHARE INTERNATIONAL AIRPORT IL US</td>\n",
       "      <td>78</td>\n",
       "      <td>28</td>\n",
       "      <td>-9999</td>\n",
       "      <td>42</td>\n",
       "      <td>...</td>\n",
       "      <td>1</td>\n",
       "      <td>-9999</td>\n",
       "      <td>-9999</td>\n",
       "      <td>-9999</td>\n",
       "      <td>-9999</td>\n",
       "      <td>-9999</td>\n",
       "      <td>1</td>\n",
       "      <td>-9999</td>\n",
       "      <td>-9999</td>\n",
       "      <td>-9999</td>\n",
       "    </tr>\n",
       "    <tr>\n",
       "      <th>1983-04-01</th>\n",
       "      <td>18679</td>\n",
       "      <td>-9999</td>\n",
       "      <td>0</td>\n",
       "      <td>NaN</td>\n",
       "      <td>GHCND:USW00094846</td>\n",
       "      <td>CHICAGO OHARE INTERNATIONAL AIRPORT IL US</td>\n",
       "      <td>94</td>\n",
       "      <td>28</td>\n",
       "      <td>-9999</td>\n",
       "      <td>114</td>\n",
       "      <td>...</td>\n",
       "      <td>1</td>\n",
       "      <td>-9999</td>\n",
       "      <td>-9999</td>\n",
       "      <td>-9999</td>\n",
       "      <td>-9999</td>\n",
       "      <td>-9999</td>\n",
       "      <td>1</td>\n",
       "      <td>-9999</td>\n",
       "      <td>-9999</td>\n",
       "      <td>-9999</td>\n",
       "    </tr>\n",
       "    <tr>\n",
       "      <th>1983-04-02</th>\n",
       "      <td>18680</td>\n",
       "      <td>-9999</td>\n",
       "      <td>0</td>\n",
       "      <td>NaN</td>\n",
       "      <td>GHCND:USW00094846</td>\n",
       "      <td>CHICAGO OHARE INTERNATIONAL AIRPORT IL US</td>\n",
       "      <td>44</td>\n",
       "      <td>22</td>\n",
       "      <td>-9999</td>\n",
       "      <td>0</td>\n",
       "      <td>...</td>\n",
       "      <td>-9999</td>\n",
       "      <td>-9999</td>\n",
       "      <td>-9999</td>\n",
       "      <td>-9999</td>\n",
       "      <td>-9999</td>\n",
       "      <td>-9999</td>\n",
       "      <td>1</td>\n",
       "      <td>-9999</td>\n",
       "      <td>-9999</td>\n",
       "      <td>-9999</td>\n",
       "    </tr>\n",
       "    <tr>\n",
       "      <th>1983-04-03</th>\n",
       "      <td>18681</td>\n",
       "      <td>-9999</td>\n",
       "      <td>0</td>\n",
       "      <td>NaN</td>\n",
       "      <td>GHCND:USW00094846</td>\n",
       "      <td>CHICAGO OHARE INTERNATIONAL AIRPORT IL US</td>\n",
       "      <td>44</td>\n",
       "      <td>28</td>\n",
       "      <td>-9999</td>\n",
       "      <td>0</td>\n",
       "      <td>...</td>\n",
       "      <td>-9999</td>\n",
       "      <td>-9999</td>\n",
       "      <td>-9999</td>\n",
       "      <td>-9999</td>\n",
       "      <td>-9999</td>\n",
       "      <td>-9999</td>\n",
       "      <td>1</td>\n",
       "      <td>-9999</td>\n",
       "      <td>-9999</td>\n",
       "      <td>-9999</td>\n",
       "    </tr>\n",
       "  </tbody>\n",
       "</table>\n",
       "<p>5 rows × 27 columns</p>\n",
       "</div>"
      ],
      "text/plain": [
       "            index  AWND  SNOW  SNWD            STATION  \\\n",
       "DATE                                                     \n",
       "1983-03-30  18677 -9999     0   NaN  GHCND:USW00094846   \n",
       "1983-03-31  18678 -9999     0   NaN  GHCND:USW00094846   \n",
       "1983-04-01  18679 -9999     0   NaN  GHCND:USW00094846   \n",
       "1983-04-02  18680 -9999     0   NaN  GHCND:USW00094846   \n",
       "1983-04-03  18681 -9999     0   NaN  GHCND:USW00094846   \n",
       "\n",
       "                                         STATION_NAME  TMAX  TMIN  TOBS  TSUN  \\\n",
       "DATE                                                                            \n",
       "1983-03-30  CHICAGO OHARE INTERNATIONAL AIRPORT IL US    78     0 -9999   246   \n",
       "1983-03-31  CHICAGO OHARE INTERNATIONAL AIRPORT IL US    78    28 -9999    42   \n",
       "1983-04-01  CHICAGO OHARE INTERNATIONAL AIRPORT IL US    94    28 -9999   114   \n",
       "1983-04-02  CHICAGO OHARE INTERNATIONAL AIRPORT IL US    44    22 -9999     0   \n",
       "1983-04-03  CHICAGO OHARE INTERNATIONAL AIRPORT IL US    44    28 -9999     0   \n",
       "\n",
       "            ...   WT08  WT09  WT10  WT11  WT14  WT15  WT16  WT17  WT18  WT22  \n",
       "DATE        ...                                                               \n",
       "1983-03-30  ...  -9999 -9999 -9999 -9999 -9999 -9999     1 -9999 -9999 -9999  \n",
       "1983-03-31  ...      1 -9999 -9999 -9999 -9999 -9999     1 -9999 -9999 -9999  \n",
       "1983-04-01  ...      1 -9999 -9999 -9999 -9999 -9999     1 -9999 -9999 -9999  \n",
       "1983-04-02  ...  -9999 -9999 -9999 -9999 -9999 -9999     1 -9999 -9999 -9999  \n",
       "1983-04-03  ...  -9999 -9999 -9999 -9999 -9999 -9999     1 -9999 -9999 -9999  \n",
       "\n",
       "[5 rows x 27 columns]"
      ]
     },
     "execution_count": 23,
     "metadata": {},
     "output_type": "execute_result"
    }
   ],
   "source": [
    "import sqlite3\n",
    "conn = sqlite3.connect('weather.db')  # NOAA\n",
    "weather = pd.read_sql('SELECT * FROM weather', conn, index_col='DATE', parse_dates=['DATE'])\n",
    "weather.head()"
   ]
  },
  {
   "cell_type": "code",
   "execution_count": 24,
   "metadata": {
    "collapsed": false
   },
   "outputs": [
    {
     "name": "stdout",
     "output_type": "stream",
     "text": [
      "Date\n",
      "2015-07-02    57.95\n",
      "2015-07-01    58.98\n",
      "2015-06-30    59.69\n",
      "2015-06-29    59.27\n",
      "2015-06-26    59.96\n",
      "Name: High, dtype: float64\n",
      "Date\n",
      "2015-07-02    57.95\n",
      "2015-07-01    58.98\n",
      "2015-06-30    59.69\n",
      "2015-06-29    59.27\n",
      "2015-06-26    59.96\n",
      "Name: High, dtype: float64\n"
     ]
    }
   ],
   "source": [
    "wdf = df.join(weather)\n",
    "print(wdf['High'].head())\n",
    "print(df['High'].head())"
   ]
  },
  {
   "cell_type": "code",
   "execution_count": 26,
   "metadata": {
    "collapsed": false
   },
   "outputs": [
    {
     "data": {
      "text/plain": [
       "Date\n",
       "1998-04-30   -9999\n",
       "1998-04-29   -9999\n",
       "1998-04-28   -9999\n",
       "1998-04-27   -9999\n",
       "1998-04-24   -9999\n",
       "Name: SNOW, dtype: float64"
      ]
     },
     "execution_count": 26,
     "metadata": {},
     "output_type": "execute_result"
    }
   ],
   "source": [
    "wdf.query('SNOW < -100')['SNOW'].head()"
   ]
  },
  {
   "cell_type": "code",
   "execution_count": 27,
   "metadata": {
    "collapsed": false
   },
   "outputs": [
    {
     "data": {
      "text/plain": [
       "Series([], Name: SNOW, dtype: float64)"
      ]
     },
     "execution_count": 27,
     "metadata": {},
     "output_type": "execute_result"
    }
   ],
   "source": [
    "import numpy as np\n",
    "wdf.ix[wdf['SNOW'] == -9999, 'SNOW'] = np.nan\n",
    "wdf.query('SNOW < -100')['SNOW'].head()"
   ]
  },
  {
   "cell_type": "code",
   "execution_count": 28,
   "metadata": {
    "collapsed": true
   },
   "outputs": [],
   "source": [
    "%matplotlib inline\n",
    "import pylab\n",
    "pylab.rcParams['figure.figsize'] = (12, 8)\n",
    "import matplotlib\n",
    "matplotlib.style.use('ggplot')"
   ]
  },
  {
   "cell_type": "code",
   "execution_count": 29,
   "metadata": {
    "collapsed": false
   },
   "outputs": [
    {
     "data": {
      "text/plain": [
       "<matplotlib.axes._subplots.AxesSubplot at 0x7fdd44eebe90>"
      ]
     },
     "execution_count": 29,
     "metadata": {},
     "output_type": "execute_result"
    },
    {
     "data": {
      "image/png": "[encoded data removed]",
      "text/plain": [
       "<matplotlib.figure.Figure at 0x7fdd47602890>"
      ]
     },
     "metadata": {},
     "output_type": "display_data"
    }
   ],
   "source": [
    "df['High'].plot()"
   ]
  },
  {
   "cell_type": "code",
   "execution_count": 30,
   "metadata": {
    "collapsed": false
   },
   "outputs": [
    {
     "data": {
      "image/png": "[encoded data removed]",
      "text/plain": [
       "<matplotlib.figure.Figure at 0x7fdd44da8710>"
      ]
     },
     "metadata": {},
     "output_type": "display_data"
    }
   ],
   "source": [
    "df['Rolling Mean'] = pd.rolling_mean(df['High'], window=7)\n",
    "df.ix['2014', ['High', 'Rolling Mean']].plot();"
   ]
  },
  {
   "cell_type": "code",
   "execution_count": 32,
   "metadata": {
    "collapsed": false
   },
   "outputs": [
    {
     "data": {
      "image/png": "[encoded data removed]",
      "text/plain": [
       "<matplotlib.figure.Figure at 0x7fdd44b4c990>"
      ]
     },
     "metadata": {},
     "output_type": "display_data"
    }
   ],
   "source": [
    "df.ix['2015', ['High', 'Volume']].plot(subplots=True);"
   ]
  },
  {
   "cell_type": "code",
   "execution_count": 34,
   "metadata": {
    "collapsed": false
   },
   "outputs": [
    {
     "data": {
      "image/png": "[encoded data removed]",
      "text/plain": [
       "<matplotlib.figure.Figure at 0x7fdd2293ac90>"
      ]
     },
     "metadata": {},
     "output_type": "display_data"
    }
   ],
   "source": [
    "from pandas.tools.plotting import scatter_matrix\n",
    "scatter_matrix(wdf.ix['2014', ['High', 'Volume', 'SNOW', 'TMAX']], diagonal='kde');"
   ]
  },
  {
   "cell_type": "code",
   "execution_count": 35,
   "metadata": {
    "collapsed": false
   },
   "outputs": [
    {
     "data": {
      "text/plain": [
       "DatetimeIndex(['2015-07-02', '2015-07-01', '2015-06-30', '2015-06-29',\n",
       "               '2015-06-26', '2015-06-25', '2015-06-24', '2015-06-23',\n",
       "               '2015-06-22', '2015-06-19', \n",
       "               ...\n",
       "               '1983-04-13', '1983-04-12', '1983-04-11', '1983-04-08',\n",
       "               '1983-04-07', '1983-04-06', '1983-04-05', '1983-04-04',\n",
       "               '1983-03-31', '1983-03-30'],\n",
       "              dtype='datetime64[ns]', name=u'Date', length=8092, freq=None, tz=None)"
      ]
     },
     "execution_count": 35,
     "metadata": {},
     "output_type": "execute_result"
    }
   ],
   "source": [
    "wdf.index"
   ]
  },
  {
   "cell_type": "code",
   "execution_count": null,
   "metadata": {
    "collapsed": true
   },
   "outputs": [],
   "source": []
  }
 ],
 "metadata": {
  "kernelspec": {
   "display_name": "Python 2",
   "language": "python",
   "name": "python2"
  },
  "language_info": {
   "codemirror_mode": {
    "name": "ipython",
    "version": 2
   },
   "file_extension": ".py",
   "mimetype": "text/x-python",
   "name": "python",
   "nbconvert_exporter": "python",
   "pygments_lexer": "ipython2",
   "version": "2.7.10"
  }
 },
 "nbformat": 4,
 "nbformat_minor": 0
}

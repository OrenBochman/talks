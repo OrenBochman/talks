{
 "cells": [
  {
   "cell_type": "markdown",
   "metadata": {},
   "source": [
    "# Descriptors and the Python dot operator\n",
    "\n",
    "Miki Tebeka, [353Solutions](http://353solutions.com)\n",
    "\n",
    "* https://docs.python.org/3/reference/datamodel.html#object.__getattr__\n",
    "* https://docs.python.org/3/reference/datamodel.html#implementing-descriptors\n",
    "* https://docs.python.org/3/howto/descriptor.html"
   ]
  },
  {
   "cell_type": "code",
   "execution_count": 75,
   "metadata": {
    "collapsed": false
   },
   "outputs": [
    {
     "data": {
      "text/plain": [
       "<_io.TextIOWrapper name='/dev/random' mode='r' encoding='UTF-8'>"
      ]
     },
     "execution_count": 75,
     "metadata": {},
     "output_type": "execute_result"
    }
   ],
   "source": [
    "fp = open('/dev/random')\n",
    "fp"
   ]
  },
  {
   "cell_type": "code",
   "execution_count": 76,
   "metadata": {
    "collapsed": false
   },
   "outputs": [
    {
     "data": {
      "text/plain": [
       "'r'"
      ]
     },
     "execution_count": 76,
     "metadata": {},
     "output_type": "execute_result"
    }
   ],
   "source": [
    "fp.mode"
   ]
  },
  {
   "cell_type": "code",
   "execution_count": 77,
   "metadata": {
    "collapsed": false
   },
   "outputs": [
    {
     "data": {
      "text/plain": [
       "'r'"
      ]
     },
     "execution_count": 77,
     "metadata": {},
     "output_type": "execute_result"
    }
   ],
   "source": [
    "getattr(fp, 'mode')"
   ]
  },
  {
   "cell_type": "code",
   "execution_count": 78,
   "metadata": {
    "collapsed": false
   },
   "outputs": [
    {
     "data": {
      "text/plain": [
       "'r'"
      ]
     },
     "execution_count": 78,
     "metadata": {},
     "output_type": "execute_result"
    }
   ],
   "source": [
    "fp.__getattribute__('mode')"
   ]
  },
  {
   "cell_type": "code",
   "execution_count": 79,
   "metadata": {
    "collapsed": false
   },
   "outputs": [
    {
     "data": {
      "text/plain": [
       "{'mode': 'r'}"
      ]
     },
     "execution_count": 79,
     "metadata": {},
     "output_type": "execute_result"
    }
   ],
   "source": [
    "fp.__dict__"
   ]
  },
  {
   "cell_type": "code",
   "execution_count": 80,
   "metadata": {
    "collapsed": false
   },
   "outputs": [
    {
     "data": {
      "text/plain": [
       "{'mode': 'r'}"
      ]
     },
     "execution_count": 80,
     "metadata": {},
     "output_type": "execute_result"
    }
   ],
   "source": [
    "vars(fp)"
   ]
  },
  {
   "cell_type": "code",
   "execution_count": 81,
   "metadata": {
    "collapsed": false
   },
   "outputs": [
    {
     "data": {
      "text/plain": [
       "True"
      ]
     },
     "execution_count": 81,
     "metadata": {},
     "output_type": "execute_result"
    }
   ],
   "source": [
    "'mode' in vars(fp)"
   ]
  },
  {
   "cell_type": "code",
   "execution_count": 85,
   "metadata": {
    "collapsed": false
   },
   "outputs": [
    {
     "ename": "UnicodeDecodeError",
     "evalue": "'utf-8' codec can't decode byte 0xeb in position 0: invalid continuation byte",
     "output_type": "error",
     "traceback": [
      "\u001b[1;31m---------------------------------------------------------------------------\u001b[0m",
      "\u001b[1;31mUnicodeDecodeError\u001b[0m                        Traceback (most recent call last)",
      "\u001b[1;32m<ipython-input-85-b2af43e26af9>\u001b[0m in \u001b[0;36m<module>\u001b[1;34m()\u001b[0m\n\u001b[1;32m----> 1\u001b[1;33m \u001b[0mfp\u001b[0m\u001b[1;33m.\u001b[0m\u001b[0mread\u001b[0m\u001b[1;33m(\u001b[0m\u001b[1;36m10\u001b[0m\u001b[1;33m)\u001b[0m\u001b[1;33m\u001b[0m\u001b[0m\n\u001b[0m",
      "\u001b[1;32m/opt/anaconda/lib/python3.5/codecs.py\u001b[0m in \u001b[0;36mdecode\u001b[1;34m(self, input, final)\u001b[0m\n\u001b[0;32m    319\u001b[0m         \u001b[1;31m# decode input (taking the buffer into account)\u001b[0m\u001b[1;33m\u001b[0m\u001b[1;33m\u001b[0m\u001b[0m\n\u001b[0;32m    320\u001b[0m         \u001b[0mdata\u001b[0m \u001b[1;33m=\u001b[0m \u001b[0mself\u001b[0m\u001b[1;33m.\u001b[0m\u001b[0mbuffer\u001b[0m \u001b[1;33m+\u001b[0m \u001b[0minput\u001b[0m\u001b[1;33m\u001b[0m\u001b[0m\n\u001b[1;32m--> 321\u001b[1;33m         \u001b[1;33m(\u001b[0m\u001b[0mresult\u001b[0m\u001b[1;33m,\u001b[0m \u001b[0mconsumed\u001b[0m\u001b[1;33m)\u001b[0m \u001b[1;33m=\u001b[0m \u001b[0mself\u001b[0m\u001b[1;33m.\u001b[0m\u001b[0m_buffer_decode\u001b[0m\u001b[1;33m(\u001b[0m\u001b[0mdata\u001b[0m\u001b[1;33m,\u001b[0m \u001b[0mself\u001b[0m\u001b[1;33m.\u001b[0m\u001b[0merrors\u001b[0m\u001b[1;33m,\u001b[0m \u001b[0mfinal\u001b[0m\u001b[1;33m)\u001b[0m\u001b[1;33m\u001b[0m\u001b[0m\n\u001b[0m\u001b[0;32m    322\u001b[0m         \u001b[1;31m# keep undecoded input until the next call\u001b[0m\u001b[1;33m\u001b[0m\u001b[1;33m\u001b[0m\u001b[0m\n\u001b[0;32m    323\u001b[0m         \u001b[0mself\u001b[0m\u001b[1;33m.\u001b[0m\u001b[0mbuffer\u001b[0m \u001b[1;33m=\u001b[0m \u001b[0mdata\u001b[0m\u001b[1;33m[\u001b[0m\u001b[0mconsumed\u001b[0m\u001b[1;33m:\u001b[0m\u001b[1;33m]\u001b[0m\u001b[1;33m\u001b[0m\u001b[0m\n",
      "\u001b[1;31mUnicodeDecodeError\u001b[0m: 'utf-8' codec can't decode byte 0xeb in position 0: invalid continuation byte"
     ]
    }
   ],
   "source": [
    "fp.read(10)"
   ]
  },
  {
   "cell_type": "code",
   "execution_count": 90,
   "metadata": {
    "collapsed": false
   },
   "outputs": [
    {
     "data": {
      "text/plain": [
       "<_io.BufferedReader name='/dev/random'>"
      ]
     },
     "execution_count": 90,
     "metadata": {},
     "output_type": "execute_result"
    }
   ],
   "source": [
    "fp = open('/dev/random', 'rb')\n",
    "fp"
   ]
  },
  {
   "cell_type": "code",
   "execution_count": 91,
   "metadata": {
    "collapsed": false
   },
   "outputs": [
    {
     "data": {
      "text/plain": [
       "b'\\x926\\xf9r\\x9c\\xb2\\x15\\xc6C\\x1b'"
      ]
     },
     "execution_count": 91,
     "metadata": {},
     "output_type": "execute_result"
    }
   ],
   "source": [
    "fp.read(10)"
   ]
  },
  {
   "cell_type": "code",
   "execution_count": 92,
   "metadata": {
    "collapsed": false
   },
   "outputs": [
    {
     "data": {
      "text/plain": [
       "'rb'"
      ]
     },
     "execution_count": 92,
     "metadata": {},
     "output_type": "execute_result"
    }
   ],
   "source": [
    "fp.mode"
   ]
  },
  {
   "cell_type": "code",
   "execution_count": 93,
   "metadata": {
    "collapsed": false
   },
   "outputs": [
    {
     "data": {
      "text/plain": [
       "False"
      ]
     },
     "execution_count": 93,
     "metadata": {},
     "output_type": "execute_result"
    }
   ],
   "source": [
    "'mode' in vars(fp)"
   ]
  },
  {
   "cell_type": "code",
   "execution_count": 95,
   "metadata": {
    "collapsed": false
   },
   "outputs": [
    {
     "data": {
      "text/plain": [
       "True"
      ]
     },
     "execution_count": 95,
     "metadata": {},
     "output_type": "execute_result"
    }
   ],
   "source": [
    "'mode' in vars(fp.__class__)"
   ]
  },
  {
   "cell_type": "code",
   "execution_count": 103,
   "metadata": {
    "collapsed": false
   },
   "outputs": [
    {
     "data": {
      "text/plain": [
       "<function BufferedReader.readlines>"
      ]
     },
     "execution_count": 103,
     "metadata": {},
     "output_type": "execute_result"
    }
   ],
   "source": [
    "fp.readlines"
   ]
  },
  {
   "cell_type": "code",
   "execution_count": 104,
   "metadata": {
    "collapsed": false
   },
   "outputs": [
    {
     "data": {
      "text/plain": [
       "False"
      ]
     },
     "execution_count": 104,
     "metadata": {},
     "output_type": "execute_result"
    }
   ],
   "source": [
    "'readlines' in vars(fp)"
   ]
  },
  {
   "cell_type": "code",
   "execution_count": 105,
   "metadata": {
    "collapsed": false
   },
   "outputs": [
    {
     "data": {
      "text/plain": [
       "False"
      ]
     },
     "execution_count": 105,
     "metadata": {},
     "output_type": "execute_result"
    }
   ],
   "source": [
    "'readlines' in vars(fp.__class__)"
   ]
  },
  {
   "cell_type": "code",
   "execution_count": 106,
   "metadata": {
    "collapsed": false
   },
   "outputs": [
    {
     "data": {
      "text/plain": [
       "(_io._BufferedIOBase,)"
      ]
     },
     "execution_count": 106,
     "metadata": {},
     "output_type": "execute_result"
    }
   ],
   "source": [
    "fp.__class__.__bases__"
   ]
  },
  {
   "cell_type": "code",
   "execution_count": 108,
   "metadata": {
    "collapsed": false
   },
   "outputs": [
    {
     "data": {
      "text/plain": [
       "False"
      ]
     },
     "execution_count": 108,
     "metadata": {},
     "output_type": "execute_result"
    }
   ],
   "source": [
    "'readlines' in vars(fp.__class__.__bases__[0])"
   ]
  },
  {
   "cell_type": "code",
   "execution_count": 109,
   "metadata": {
    "collapsed": false
   },
   "outputs": [
    {
     "data": {
      "text/plain": [
       "(_io.BufferedReader, _io._BufferedIOBase, _io._IOBase, object)"
      ]
     },
     "execution_count": 109,
     "metadata": {},
     "output_type": "execute_result"
    }
   ],
   "source": [
    "fp.__class__.__mro__"
   ]
  },
  {
   "cell_type": "code",
   "execution_count": 111,
   "metadata": {
    "collapsed": false
   },
   "outputs": [
    {
     "name": "stdout",
     "output_type": "stream",
     "text": [
      "<class '_io._IOBase'>\n"
     ]
    }
   ],
   "source": [
    "for cls in fp.__class__.__mro__:\n",
    "    if 'readlines' in vars(cls):\n",
    "        print(cls)\n",
    "        break\n",
    "else:\n",
    "    print('no idea where \"readlines\" comes from')"
   ]
  },
  {
   "cell_type": "markdown",
   "metadata": {},
   "source": [
    "## Descriptors"
   ]
  },
  {
   "cell_type": "code",
   "execution_count": 120,
   "metadata": {
    "collapsed": true
   },
   "outputs": [],
   "source": [
    "class Desc:\n",
    "    def __get__(self, inst, owner):\n",
    "        print('__get__: inst=%r, owner=%r' % (inst, owner))\n",
    "        \n",
    "    def __set__(self, inst, value):\n",
    "        print('__set__: inst=%r, value=%r' % (inst, value))\n",
    "        \n",
    "\n",
    "class Stock:\n",
    "    symbol = Desc()\n",
    "    \n",
    "s = Stock()"
   ]
  },
  {
   "cell_type": "code",
   "execution_count": 121,
   "metadata": {
    "collapsed": false
   },
   "outputs": [
    {
     "name": "stdout",
     "output_type": "stream",
     "text": [
      "__get__: inst=<__main__.Stock object at 0x7fa16f426e48>, owner=<class '__main__.Stock'>\n"
     ]
    }
   ],
   "source": [
    "s.symbol"
   ]
  },
  {
   "cell_type": "code",
   "execution_count": 122,
   "metadata": {
    "collapsed": false
   },
   "outputs": [
    {
     "name": "stdout",
     "output_type": "stream",
     "text": [
      "__get__: inst=None, owner=<class '__main__.Stock'>\n"
     ]
    }
   ],
   "source": [
    "Stock.symbol"
   ]
  },
  {
   "cell_type": "code",
   "execution_count": 123,
   "metadata": {
    "collapsed": false
   },
   "outputs": [
    {
     "name": "stdout",
     "output_type": "stream",
     "text": [
      "__set__: inst=<__main__.Stock object at 0x7fa16f426e48>, value='brk.a'\n"
     ]
    }
   ],
   "source": [
    "s.symbol = 'brk.a'"
   ]
  },
  {
   "cell_type": "code",
   "execution_count": 125,
   "metadata": {
    "collapsed": false
   },
   "outputs": [
    {
     "data": {
      "text/plain": [
       "'brk.a'"
      ]
     },
     "execution_count": 125,
     "metadata": {},
     "output_type": "execute_result"
    }
   ],
   "source": [
    "Stock.symbol = 'brk.a'\n",
    "Stock.symbol"
   ]
  },
  {
   "cell_type": "code",
   "execution_count": 126,
   "metadata": {
    "collapsed": false
   },
   "outputs": [
    {
     "data": {
      "text/plain": [
       "'brk.a'"
      ]
     },
     "execution_count": 126,
     "metadata": {},
     "output_type": "execute_result"
    }
   ],
   "source": [
    "s.symbol"
   ]
  },
  {
   "cell_type": "code",
   "execution_count": 1,
   "metadata": {
    "collapsed": false
   },
   "outputs": [
    {
     "data": {
      "text/plain": [
       "Stock('BRK.A', 216298.0)"
      ]
     },
     "execution_count": 1,
     "metadata": {},
     "output_type": "execute_result"
    }
   ],
   "source": [
    "class Field:\n",
    "    def __get__(self, inst, owner):\n",
    "        if inst is None:\n",
    "            return self\n",
    "        return self._value\n",
    "        \n",
    "    def __set__(self, inst, value):\n",
    "        self.assert_valid(value)\n",
    "        self._value = value\n",
    "        \n",
    "    def assert_valid(self, value):  # Mention abc\n",
    "        pass\n",
    "\n",
    "\n",
    "class SymbolField(Field):\n",
    "    def assert_valid(self, value):\n",
    "        if not str.isupper(value):\n",
    "            raise ValueError('symbol must be upper case, got %r' % value)\n",
    "            \n",
    "\n",
    "class PriceField(Field):\n",
    "    def assert_valid(self, value):\n",
    "        if not isinstance(value, float):\n",
    "            raise TypeError('price must be float, got %s' % type(value))\n",
    "            \n",
    "        if value <= 0:\n",
    "            raise ValueError('price most be positive, got %s' % price)\n",
    "        \n",
    "    \n",
    "class Stock:\n",
    "    symbol = SymbolField()\n",
    "    price = PriceField()\n",
    "    \n",
    "    def __init__(self, symbol, price):\n",
    "        self.symbol = symbol\n",
    "        self.price = price\n",
    "        \n",
    "    def __repr__(self):\n",
    "        cls = self.__class__.__name__\n",
    "        return '%s(%r, %r)' % (cls, self.symbol, self.price)\n",
    "\n",
    "brka = Stock('BRK.A', 216298.00)\n",
    "brka"
   ]
  },
  {
   "cell_type": "code",
   "execution_count": 3,
   "metadata": {
    "collapsed": false
   },
   "outputs": [
    {
     "data": {
      "text/plain": [
       "97.48"
      ]
     },
     "execution_count": 3,
     "metadata": {},
     "output_type": "execute_result"
    }
   ],
   "source": [
    "v = Stock('V', 97.48)\n",
    "v.price"
   ]
  },
  {
   "cell_type": "code",
   "execution_count": 4,
   "metadata": {
    "collapsed": false
   },
   "outputs": [
    {
     "data": {
      "text/plain": [
       "97.48"
      ]
     },
     "execution_count": 4,
     "metadata": {},
     "output_type": "execute_result"
    }
   ],
   "source": [
    "brka.price"
   ]
  },
  {
   "cell_type": "code",
   "execution_count": 140,
   "metadata": {
    "collapsed": false
   },
   "outputs": [
    {
     "data": {
      "text/plain": [
       "Stock(216298.0, 216298.0)"
      ]
     },
     "execution_count": 140,
     "metadata": {},
     "output_type": "execute_result"
    }
   ],
   "source": [
    "class Field:\n",
    "    def __get__(self, inst, owner):\n",
    "        if inst is None:\n",
    "            return self\n",
    "        return getattr(inst, '_field')\n",
    "        \n",
    "    def __set__(self, inst, value):\n",
    "        self.assert_valid(value)\n",
    "        setattr(inst, '_field', value)        \n",
    "        \n",
    "    def assert_valid(self, value):\n",
    "        pass\n",
    "\n",
    "\n",
    "class SymbolField(Field):\n",
    "    def assert_valid(self, value):\n",
    "        if not str.isupper(value):\n",
    "            raise ValueError('symbol must be upper case, got %r' % value)\n",
    "            \n",
    "\n",
    "class PriceField(Field):\n",
    "    def assert_valid(self, value):\n",
    "        if not isinstance(value, float):\n",
    "            raise TypeError('price must be float, got %s' % type(value))\n",
    "            \n",
    "        if value <= 0:\n",
    "            raise ValueError('price most be positive, got %s' % price)\n",
    "        \n",
    "    \n",
    "class Stock:\n",
    "    symbol = SymbolField()\n",
    "    price = PriceField()\n",
    "    \n",
    "    def __init__(self, symbol, price):\n",
    "        self.symbol = symbol\n",
    "        self.price = price\n",
    "        \n",
    "    def __repr__(self):\n",
    "        cls = self.__class__.__name__\n",
    "        return '%s(%r, %r)' % (cls, self.symbol, self.price)\n",
    "\n",
    "brka = Stock('BRK.A', 216298.00)\n",
    "brka"
   ]
  },
  {
   "cell_type": "code",
   "execution_count": 165,
   "metadata": {
    "collapsed": false
   },
   "outputs": [
    {
     "data": {
      "text/plain": [
       "Stock('BRK.A', 216298.0)"
      ]
     },
     "execution_count": 165,
     "metadata": {},
     "output_type": "execute_result"
    }
   ],
   "source": [
    "class Field:\n",
    "    _attr = None\n",
    "    \n",
    "    def __get__(self, inst, owner):\n",
    "        if inst is None:\n",
    "            return self\n",
    "        return getattr(inst, self._attr)\n",
    "        \n",
    "    def __set__(self, inst, value):\n",
    "        self.assert_valid(value)\n",
    "        setattr(inst, self._attr, value)        \n",
    "        \n",
    "    def assert_valid(self, value):\n",
    "        pass\n",
    "\n",
    "\n",
    "class SymbolField(Field):\n",
    "    _attr = '_symbol'\n",
    "    \n",
    "    def assert_valid(self, value):\n",
    "        if not str.isupper(value):\n",
    "            raise ValueError('symbol must be upper case, got %r' % value)\n",
    "            \n",
    "\n",
    "class PriceField(Field):\n",
    "    _attr = '_price'\n",
    "    \n",
    "    def assert_valid(self, value):\n",
    "        if not isinstance(value, float):\n",
    "            raise TypeError('price must be float, got %s' % type(value))\n",
    "            \n",
    "        if value <= 0:\n",
    "            raise ValueError('price most be positive, got %s' % price)\n",
    "        \n",
    "    \n",
    "class Stock:\n",
    "    symbol = SymbolField()\n",
    "    price = PriceField()\n",
    "    \n",
    "    def __init__(self, symbol, price):\n",
    "        self.symbol = symbol\n",
    "        self.price = price\n",
    "        \n",
    "    def __repr__(self):\n",
    "        cls = self.__class__.__name__\n",
    "        return '%s(%r, %r)' % (cls, self.symbol, self.price)\n",
    "\n",
    "brka = Stock('BRK.A', 216298.00)\n",
    "brka"
   ]
  },
  {
   "cell_type": "code",
   "execution_count": 166,
   "metadata": {
    "collapsed": false
   },
   "outputs": [
    {
     "data": {
      "text/plain": [
       "{'_price': 216298.0, '_symbol': 'BRK.A'}"
      ]
     },
     "execution_count": 166,
     "metadata": {},
     "output_type": "execute_result"
    }
   ],
   "source": [
    "vars(brka)"
   ]
  },
  {
   "cell_type": "code",
   "execution_count": 168,
   "metadata": {
    "collapsed": false
   },
   "outputs": [
    {
     "ename": "ValueError",
     "evalue": "symbol must be upper case, got 'v'",
     "output_type": "error",
     "traceback": [
      "\u001b[1;31m---------------------------------------------------------------------------\u001b[0m",
      "\u001b[1;31mValueError\u001b[0m                                Traceback (most recent call last)",
      "\u001b[1;32m<ipython-input-168-901075cd7d56>\u001b[0m in \u001b[0;36m<module>\u001b[1;34m()\u001b[0m\n\u001b[1;32m----> 1\u001b[1;33m \u001b[0mStock\u001b[0m\u001b[1;33m(\u001b[0m\u001b[1;34m'v'\u001b[0m\u001b[1;33m,\u001b[0m \u001b[1;36m74.48\u001b[0m\u001b[1;33m)\u001b[0m\u001b[1;33m\u001b[0m\u001b[0m\n\u001b[0m",
      "\u001b[1;32m<ipython-input-165-3d957a6fbdf0>\u001b[0m in \u001b[0;36m__init__\u001b[1;34m(self, symbol, price)\u001b[0m\n\u001b[0;32m     39\u001b[0m \u001b[1;33m\u001b[0m\u001b[0m\n\u001b[0;32m     40\u001b[0m     \u001b[1;32mdef\u001b[0m \u001b[0m__init__\u001b[0m\u001b[1;33m(\u001b[0m\u001b[0mself\u001b[0m\u001b[1;33m,\u001b[0m \u001b[0msymbol\u001b[0m\u001b[1;33m,\u001b[0m \u001b[0mprice\u001b[0m\u001b[1;33m)\u001b[0m\u001b[1;33m:\u001b[0m\u001b[1;33m\u001b[0m\u001b[0m\n\u001b[1;32m---> 41\u001b[1;33m         \u001b[0mself\u001b[0m\u001b[1;33m.\u001b[0m\u001b[0msymbol\u001b[0m \u001b[1;33m=\u001b[0m \u001b[0msymbol\u001b[0m\u001b[1;33m\u001b[0m\u001b[0m\n\u001b[0m\u001b[0;32m     42\u001b[0m         \u001b[0mself\u001b[0m\u001b[1;33m.\u001b[0m\u001b[0mprice\u001b[0m \u001b[1;33m=\u001b[0m \u001b[0mprice\u001b[0m\u001b[1;33m\u001b[0m\u001b[0m\n\u001b[0;32m     43\u001b[0m \u001b[1;33m\u001b[0m\u001b[0m\n",
      "\u001b[1;32m<ipython-input-165-3d957a6fbdf0>\u001b[0m in \u001b[0;36m__set__\u001b[1;34m(self, inst, value)\u001b[0m\n\u001b[0;32m      8\u001b[0m \u001b[1;33m\u001b[0m\u001b[0m\n\u001b[0;32m      9\u001b[0m     \u001b[1;32mdef\u001b[0m \u001b[0m__set__\u001b[0m\u001b[1;33m(\u001b[0m\u001b[0mself\u001b[0m\u001b[1;33m,\u001b[0m \u001b[0minst\u001b[0m\u001b[1;33m,\u001b[0m \u001b[0mvalue\u001b[0m\u001b[1;33m)\u001b[0m\u001b[1;33m:\u001b[0m\u001b[1;33m\u001b[0m\u001b[0m\n\u001b[1;32m---> 10\u001b[1;33m         \u001b[0mself\u001b[0m\u001b[1;33m.\u001b[0m\u001b[0massert_valid\u001b[0m\u001b[1;33m(\u001b[0m\u001b[0mvalue\u001b[0m\u001b[1;33m)\u001b[0m\u001b[1;33m\u001b[0m\u001b[0m\n\u001b[0m\u001b[0;32m     11\u001b[0m         \u001b[0msetattr\u001b[0m\u001b[1;33m(\u001b[0m\u001b[0minst\u001b[0m\u001b[1;33m,\u001b[0m \u001b[0mself\u001b[0m\u001b[1;33m.\u001b[0m\u001b[0m_attr\u001b[0m\u001b[1;33m,\u001b[0m \u001b[0mvalue\u001b[0m\u001b[1;33m)\u001b[0m\u001b[1;33m\u001b[0m\u001b[0m\n\u001b[0;32m     12\u001b[0m \u001b[1;33m\u001b[0m\u001b[0m\n",
      "\u001b[1;32m<ipython-input-165-3d957a6fbdf0>\u001b[0m in \u001b[0;36massert_valid\u001b[1;34m(self, value)\u001b[0m\n\u001b[0;32m     20\u001b[0m     \u001b[1;32mdef\u001b[0m \u001b[0massert_valid\u001b[0m\u001b[1;33m(\u001b[0m\u001b[0mself\u001b[0m\u001b[1;33m,\u001b[0m \u001b[0mvalue\u001b[0m\u001b[1;33m)\u001b[0m\u001b[1;33m:\u001b[0m\u001b[1;33m\u001b[0m\u001b[0m\n\u001b[0;32m     21\u001b[0m         \u001b[1;32mif\u001b[0m \u001b[1;32mnot\u001b[0m \u001b[0mstr\u001b[0m\u001b[1;33m.\u001b[0m\u001b[0misupper\u001b[0m\u001b[1;33m(\u001b[0m\u001b[0mvalue\u001b[0m\u001b[1;33m)\u001b[0m\u001b[1;33m:\u001b[0m\u001b[1;33m\u001b[0m\u001b[0m\n\u001b[1;32m---> 22\u001b[1;33m             \u001b[1;32mraise\u001b[0m \u001b[0mValueError\u001b[0m\u001b[1;33m(\u001b[0m\u001b[1;34m'symbol must be upper case, got %r'\u001b[0m \u001b[1;33m%\u001b[0m \u001b[0mvalue\u001b[0m\u001b[1;33m)\u001b[0m\u001b[1;33m\u001b[0m\u001b[0m\n\u001b[0m\u001b[0;32m     23\u001b[0m \u001b[1;33m\u001b[0m\u001b[0m\n\u001b[0;32m     24\u001b[0m \u001b[1;33m\u001b[0m\u001b[0m\n",
      "\u001b[1;31mValueError\u001b[0m: symbol must be upper case, got 'v'"
     ]
    }
   ],
   "source": [
    "Stock('v', 74.48)"
   ]
  },
  {
   "cell_type": "code",
   "execution_count": 148,
   "metadata": {
    "collapsed": false
   },
   "outputs": [
    {
     "data": {
      "text/plain": [
       "Stock('BRK.A', 216297.0, 216297.0)"
      ]
     },
     "execution_count": 148,
     "metadata": {},
     "output_type": "execute_result"
    }
   ],
   "source": [
    "class Field:\n",
    "    _attr = None\n",
    "    \n",
    "    def __get__(self, inst, owner):\n",
    "        if inst is None:\n",
    "            return self\n",
    "        return getattr(inst, self._attr)\n",
    "        \n",
    "    def __set__(self, inst, value):\n",
    "        self.assert_valid(value)\n",
    "        setattr(inst, self._attr, value)        \n",
    "        \n",
    "    def assert_valid(self, value):\n",
    "        pass\n",
    "\n",
    "\n",
    "class SymbolField(Field):\n",
    "    _attr = '_symbol'\n",
    "    \n",
    "    def assert_valid(self, value):\n",
    "        if not str.isupper(value):\n",
    "            raise ValueError('symbol must be upper case, got %r' % value)\n",
    "            \n",
    "\n",
    "class PriceField(Field):\n",
    "    _attr = '_price'\n",
    "    \n",
    "    def assert_valid(self, value):\n",
    "        if not isinstance(value, float):\n",
    "            raise TypeError('price must be float, got %s' % type(value))\n",
    "            \n",
    "        if value <= 0:\n",
    "            raise ValueError('price most be positive, got %s' % price)\n",
    "        \n",
    "    \n",
    "class Stock:\n",
    "    symbol = SymbolField()\n",
    "    price = PriceField()\n",
    "    low = PriceField()\n",
    "    \n",
    "    def __init__(self, symbol, price, low):\n",
    "        self.symbol = symbol\n",
    "        self.price = price\n",
    "        self.low = low\n",
    "        \n",
    "    def __repr__(self):\n",
    "        cls = self.__class__.__name__\n",
    "        return '%s(%r, %r, %r)' % (cls, self.symbol, self.price, self.low)\n",
    "\n",
    "brka = Stock('BRK.A', 216298.00, 216297.00)\n",
    "brka"
   ]
  },
  {
   "cell_type": "code",
   "execution_count": 159,
   "metadata": {
    "collapsed": false
   },
   "outputs": [
    {
     "data": {
      "text/plain": [
       "Stock('BRK.A', 216298.0, 216297.0)"
      ]
     },
     "execution_count": 159,
     "metadata": {},
     "output_type": "execute_result"
    }
   ],
   "source": [
    "from itertools import count\n",
    "class Field:\n",
    "    _next_id = count().__next__\n",
    "\n",
    "    def __init__(self):\n",
    "        self._attr = '_%s_%d' % (self.__class__.__name__, self._next_id())\n",
    "        \n",
    "    def __get__(self, inst, owner):\n",
    "        if inst is None:\n",
    "            return self\n",
    "        return getattr(inst, self._attr)\n",
    "        \n",
    "    def __set__(self, inst, value):\n",
    "        self.assert_valid(value)\n",
    "        setattr(inst, self._attr, value)        \n",
    "        \n",
    "    def assert_valid(self, value):\n",
    "        pass\n",
    "    \n",
    "\n",
    "class SymbolField(Field):\n",
    "    _attr = '_symbol'\n",
    "    \n",
    "    def assert_valid(self, value):\n",
    "        if not str.isupper(value):\n",
    "            raise ValueError('symbol must be upper case, got %r' % value)\n",
    "            \n",
    "\n",
    "class PriceField(Field):\n",
    "    _attr = '_price'\n",
    "    \n",
    "    def assert_valid(self, value):\n",
    "        if not isinstance(value, float):\n",
    "            raise TypeError('price must be float, got %s' % type(value))\n",
    "            \n",
    "        if value <= 0:\n",
    "            raise ValueError('price most be positive, got %s' % price)\n",
    "        \n",
    "    \n",
    "class Stock:\n",
    "    symbol = SymbolField()\n",
    "    price = PriceField()\n",
    "    low = PriceField()\n",
    "    \n",
    "    def __init__(self, symbol, price, low):\n",
    "        self.symbol = symbol\n",
    "        self.price = price\n",
    "        self.low = low\n",
    "        \n",
    "    def __repr__(self):\n",
    "        cls = self.__class__.__name__\n",
    "        return '%s(%r, %r, %r)' % (cls, self.symbol, self.price, self.low)\n",
    "\n",
    "brka = Stock('BRK.A', 216298.00, 216297.00)\n",
    "brka"
   ]
  },
  {
   "cell_type": "code",
   "execution_count": 160,
   "metadata": {
    "collapsed": false
   },
   "outputs": [
    {
     "data": {
      "text/plain": [
       "{'_PriceField_1': 216298.0,\n",
       " '_PriceField_2': 216297.0,\n",
       " '_SymbolField_0': 'BRK.A'}"
      ]
     },
     "execution_count": 160,
     "metadata": {},
     "output_type": "execute_result"
    }
   ],
   "source": [
    "vars(brka)"
   ]
  },
  {
   "cell_type": "code",
   "execution_count": 172,
   "metadata": {
    "collapsed": false
   },
   "outputs": [
    {
     "data": {
      "text/plain": [
       "-10"
      ]
     },
     "execution_count": 172,
     "metadata": {},
     "output_type": "execute_result"
    }
   ],
   "source": [
    "class Math:\n",
    "    @staticmethod\n",
    "    def neg(val):\n",
    "        return -val\n",
    "    \n",
    "Math.neg(10)"
   ]
  },
  {
   "cell_type": "code",
   "execution_count": 173,
   "metadata": {
    "collapsed": false
   },
   "outputs": [
    {
     "data": {
      "text/plain": [
       "-10"
      ]
     },
     "execution_count": 173,
     "metadata": {},
     "output_type": "execute_result"
    }
   ],
   "source": [
    "m = Math()\n",
    "m.neg(10)"
   ]
  },
  {
   "cell_type": "code",
   "execution_count": 220,
   "metadata": {
    "collapsed": true
   },
   "outputs": [],
   "source": [
    "class StaticMethod:\n",
    "    def __init__(self, func):\n",
    "        self.func = func\n",
    "        \n",
    "    def __get__(self, inst, owner):\n",
    "        return self.func\n",
    " \n",
    "    \n",
    "class Math:\n",
    "    @StaticMethod\n",
    "    def neg(val):\n",
    "        return -val"
   ]
  },
  {
   "cell_type": "code",
   "execution_count": 221,
   "metadata": {
    "collapsed": false
   },
   "outputs": [
    {
     "data": {
      "text/plain": [
       "-10"
      ]
     },
     "execution_count": 221,
     "metadata": {},
     "output_type": "execute_result"
    }
   ],
   "source": [
    "m = Math()\n",
    "m.neg(10)"
   ]
  },
  {
   "cell_type": "code",
   "execution_count": 222,
   "metadata": {
    "collapsed": false
   },
   "outputs": [
    {
     "data": {
      "text/plain": [
       "-10"
      ]
     },
     "execution_count": 222,
     "metadata": {},
     "output_type": "execute_result"
    }
   ],
   "source": [
    "Math.neg(10)"
   ]
  },
  {
   "cell_type": "code",
   "execution_count": 201,
   "metadata": {
    "collapsed": false
   },
   "outputs": [
    {
     "data": {
      "text/plain": [
       "Point(2.3, 3.4)"
      ]
     },
     "execution_count": 201,
     "metadata": {},
     "output_type": "execute_result"
    }
   ],
   "source": [
    "class Point:\n",
    "    def __init__(self, x, y):\n",
    "        self.x, self.y = x, y\n",
    "        \n",
    "    @classmethod\n",
    "    def from_str(cls, val):\n",
    "        \"\"\"From string in format 'x,y'\"\"\"\n",
    "        x, y = map(float, val.split(','))\n",
    "        return cls(x, y)\n",
    "    \n",
    "    def __repr__(self):\n",
    "        return '%s(%r, %r)' % (self.__class__.__name__, self.x, self.y)\n",
    "    \n",
    "p = Point.from_str('2.3, 3.4')\n",
    "p"
   ]
  },
  {
   "cell_type": "code",
   "execution_count": 223,
   "metadata": {
    "collapsed": false
   },
   "outputs": [
    {
     "data": {
      "text/plain": [
       "Point(2.3, 3.4)"
      ]
     },
     "execution_count": 223,
     "metadata": {},
     "output_type": "execute_result"
    }
   ],
   "source": [
    "from functools import partial\n",
    "\n",
    "class ClassMethod:\n",
    "    def __init__(self, func):\n",
    "        self.func = func\n",
    "        \n",
    "    def __get__(self, inst, owner):\n",
    "        return partial(self.func, owner)\n",
    "    \n",
    "    \n",
    "class Point:\n",
    "    def __init__(self, x, y):\n",
    "        self.x, self.y = x, y\n",
    "        \n",
    "    @ClassMethod\n",
    "    def from_str(cls, val):\n",
    "        \"\"\"From string in format 'x,y'\"\"\"\n",
    "        # print(cls)\n",
    "        x, y = map(float, val.split(','))\n",
    "        return cls(x, y)\n",
    "    \n",
    "    def __repr__(self):\n",
    "        return '%s(%r, %r)' % (self.__class__.__name__, self.x, self.y)\n",
    "\n",
    "p = Point.from_str('2.3, 3.4')\n",
    "p"
   ]
  },
  {
   "cell_type": "code",
   "execution_count": 224,
   "metadata": {
    "collapsed": false
   },
   "outputs": [
    {
     "data": {
      "text/plain": [
       "Point(1.1, 2.2)"
      ]
     },
     "execution_count": 224,
     "metadata": {},
     "output_type": "execute_result"
    }
   ],
   "source": [
    "p.from_str('1.1,2.2')"
   ]
  },
  {
   "cell_type": "code",
   "execution_count": 225,
   "metadata": {
    "collapsed": false
   },
   "outputs": [
    {
     "data": {
      "text/plain": [
       "'Tim Peters'"
      ]
     },
     "execution_count": 225,
     "metadata": {},
     "output_type": "execute_result"
    }
   ],
   "source": [
    "class Person:\n",
    "    def __init__(self, first, last):\n",
    "        self.first = first\n",
    "        self.last = last\n",
    "        \n",
    "    @property\n",
    "    def name(self):\n",
    "        return '%s %s' % (self.first, self.last)\n",
    "    \n",
    "p = Person('Tim', 'Peters')\n",
    "p.name"
   ]
  },
  {
   "cell_type": "code",
   "execution_count": 227,
   "metadata": {
    "collapsed": false
   },
   "outputs": [
    {
     "data": {
      "text/plain": [
       "'Tim Peters'"
      ]
     },
     "execution_count": 227,
     "metadata": {},
     "output_type": "execute_result"
    }
   ],
   "source": [
    "class Property:\n",
    "    def __init__(self, func):\n",
    "        self.func = func\n",
    "        \n",
    "    def __get__(self, inst, value):\n",
    "        if not inst:\n",
    "            return self\n",
    "        \n",
    "        return self.func(inst)\n",
    "\n",
    "class Person:\n",
    "    def __init__(self, first, last):\n",
    "        self.first = first\n",
    "        self.last = last\n",
    "        \n",
    "    @Property\n",
    "    def name(self):\n",
    "        return '%s %s' % (self.first, self.last)\n",
    "    \n",
    "p = Person('Tim', 'Peters')\n",
    "p.name"
   ]
  },
  {
   "cell_type": "code",
   "execution_count": 1,
   "metadata": {
    "collapsed": false
   },
   "outputs": [
    {
     "data": {
      "text/plain": [
       "\"Hi, I'm Elvis. How are you?\""
      ]
     },
     "execution_count": 1,
     "metadata": {},
     "output_type": "execute_result"
    }
   ],
   "source": [
    "class Person:\n",
    "    def __init__(self, name):\n",
    "        self.name = name\n",
    "        \n",
    "    def greet(self):\n",
    "        return \"Hi, I'm %s. How are you?\" % self.name\n",
    "    \n",
    "p = Person('Elvis')\n",
    "p.greet()"
   ]
  },
  {
   "cell_type": "code",
   "execution_count": 2,
   "metadata": {
    "collapsed": false
   },
   "outputs": [
    {
     "data": {
      "text/plain": [
       "<method-wrapper '__get__' of method object at 0x7f8c39238248>"
      ]
     },
     "execution_count": 2,
     "metadata": {},
     "output_type": "execute_result"
    }
   ],
   "source": [
    "p.greet.__get__"
   ]
  },
  {
   "cell_type": "code",
   "execution_count": 3,
   "metadata": {
    "collapsed": false
   },
   "outputs": [
    {
     "data": {
      "text/plain": [
       "\"Hi, I'm Elvis. How are you?\""
      ]
     },
     "execution_count": 3,
     "metadata": {},
     "output_type": "execute_result"
    }
   ],
   "source": [
    "meth = p.greet.__get__(p, Person)\n",
    "meth()"
   ]
  },
  {
   "cell_type": "code",
   "execution_count": null,
   "metadata": {
    "collapsed": true
   },
   "outputs": [],
   "source": []
  }
 ],
 "metadata": {
  "anaconda-cloud": {},
  "kernelspec": {
   "display_name": "Python [default]",
   "language": "python",
   "name": "python3"
  },
  "language_info": {
   "codemirror_mode": {
    "name": "ipython",
    "version": 3
   },
   "file_extension": ".py",
   "mimetype": "text/x-python",
   "name": "python",
   "nbconvert_exporter": "python",
   "pygments_lexer": "ipython3",
   "version": "3.5.2"
  }
 },
 "nbformat": 4,
 "nbformat_minor": 0
}

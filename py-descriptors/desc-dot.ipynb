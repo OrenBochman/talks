{
 "cells": [
  {
   "cell_type": "markdown",
   "metadata": {},
   "source": [
    "# Descriptors and Python's Dot Operator\n",
    "\n",
    "Miki Tebeka .:. [353solutions](http://353solutions.com) .:. Python, Scientific Python and Go workshops & consulting.\n",
    "\n",
    "## References\n",
    "* [`__getattr__`](https://docs.python.org/3/reference/datamodel.html#object.__getattr__) and [`__getattribute__`](https://docs.python.org/3/reference/datamodel.html#object.__getattribute__)\n",
    "* [Implementing Descriptors](https://docs.python.org/3/reference/datamodel.html#implementing-descriptors)\n",
    "* [Descriptors HowTo](https://docs.python.org/3/howto/descriptor.html)"
   ]
  },
  {
   "cell_type": "code",
   "execution_count": 3,
   "metadata": {
    "collapsed": false
   },
   "outputs": [
    {
     "data": {
      "text/plain": [
       "'r'"
      ]
     },
     "execution_count": 3,
     "metadata": {},
     "output_type": "execute_result"
    }
   ],
   "source": [
    "fp = open('/dev/random')\n",
    "fp.mode"
   ]
  },
  {
   "cell_type": "code",
   "execution_count": 4,
   "metadata": {
    "collapsed": false
   },
   "outputs": [
    {
     "data": {
      "text/plain": [
       "'r'"
      ]
     },
     "execution_count": 4,
     "metadata": {},
     "output_type": "execute_result"
    }
   ],
   "source": [
    "getattr(fp, 'mode')"
   ]
  },
  {
   "cell_type": "code",
   "execution_count": 5,
   "metadata": {
    "collapsed": false
   },
   "outputs": [
    {
     "data": {
      "text/plain": [
       "'r'"
      ]
     },
     "execution_count": 5,
     "metadata": {},
     "output_type": "execute_result"
    }
   ],
   "source": [
    "fp.__getattribute__('mode')"
   ]
  },
  {
   "cell_type": "code",
   "execution_count": 6,
   "metadata": {
    "collapsed": false
   },
   "outputs": [
    {
     "data": {
      "text/plain": [
       "{'mode': 'r'}"
      ]
     },
     "execution_count": 6,
     "metadata": {},
     "output_type": "execute_result"
    }
   ],
   "source": [
    "# dot lookup first looks in object __dict__\n",
    "fp.__dict__"
   ]
  },
  {
   "cell_type": "code",
   "execution_count": 7,
   "metadata": {
    "collapsed": false
   },
   "outputs": [
    {
     "data": {
      "text/plain": [
       "{'mode': 'r'}"
      ]
     },
     "execution_count": 7,
     "metadata": {},
     "output_type": "execute_result"
    }
   ],
   "source": [
    "# vars is shorthand for __dict__\n",
    "vars(fp)"
   ]
  },
  {
   "cell_type": "code",
   "execution_count": 8,
   "metadata": {
    "collapsed": false
   },
   "outputs": [
    {
     "data": {
      "text/plain": [
       "True"
      ]
     },
     "execution_count": 8,
     "metadata": {},
     "output_type": "execute_result"
    }
   ],
   "source": [
    "'mode' in vars(fp)"
   ]
  },
  {
   "cell_type": "code",
   "execution_count": 9,
   "metadata": {
    "collapsed": false
   },
   "outputs": [
    {
     "ename": "UnicodeDecodeError",
     "evalue": "'utf-8' codec can't decode byte 0xeb in position 3: invalid continuation byte",
     "output_type": "error",
     "traceback": [
      "\u001b[1;31m---------------------------------------------------------------------------\u001b[0m",
      "\u001b[1;31mUnicodeDecodeError\u001b[0m                        Traceback (most recent call last)",
      "\u001b[1;32m<ipython-input-9-b2af43e26af9>\u001b[0m in \u001b[0;36m<module>\u001b[1;34m()\u001b[0m\n\u001b[1;32m----> 1\u001b[1;33m \u001b[0mfp\u001b[0m\u001b[1;33m.\u001b[0m\u001b[0mread\u001b[0m\u001b[1;33m(\u001b[0m\u001b[1;36m10\u001b[0m\u001b[1;33m)\u001b[0m\u001b[1;33m\u001b[0m\u001b[0m\n\u001b[0m",
      "\u001b[1;32m/opt/anaconda/lib/python3.5/codecs.py\u001b[0m in \u001b[0;36mdecode\u001b[1;34m(self, input, final)\u001b[0m\n\u001b[0;32m    319\u001b[0m         \u001b[1;31m# decode input (taking the buffer into account)\u001b[0m\u001b[1;33m\u001b[0m\u001b[1;33m\u001b[0m\u001b[0m\n\u001b[0;32m    320\u001b[0m         \u001b[0mdata\u001b[0m \u001b[1;33m=\u001b[0m \u001b[0mself\u001b[0m\u001b[1;33m.\u001b[0m\u001b[0mbuffer\u001b[0m \u001b[1;33m+\u001b[0m \u001b[0minput\u001b[0m\u001b[1;33m\u001b[0m\u001b[0m\n\u001b[1;32m--> 321\u001b[1;33m         \u001b[1;33m(\u001b[0m\u001b[0mresult\u001b[0m\u001b[1;33m,\u001b[0m \u001b[0mconsumed\u001b[0m\u001b[1;33m)\u001b[0m \u001b[1;33m=\u001b[0m \u001b[0mself\u001b[0m\u001b[1;33m.\u001b[0m\u001b[0m_buffer_decode\u001b[0m\u001b[1;33m(\u001b[0m\u001b[0mdata\u001b[0m\u001b[1;33m,\u001b[0m \u001b[0mself\u001b[0m\u001b[1;33m.\u001b[0m\u001b[0merrors\u001b[0m\u001b[1;33m,\u001b[0m \u001b[0mfinal\u001b[0m\u001b[1;33m)\u001b[0m\u001b[1;33m\u001b[0m\u001b[0m\n\u001b[0m\u001b[0;32m    322\u001b[0m         \u001b[1;31m# keep undecoded input until the next call\u001b[0m\u001b[1;33m\u001b[0m\u001b[1;33m\u001b[0m\u001b[0m\n\u001b[0;32m    323\u001b[0m         \u001b[0mself\u001b[0m\u001b[1;33m.\u001b[0m\u001b[0mbuffer\u001b[0m \u001b[1;33m=\u001b[0m \u001b[0mdata\u001b[0m\u001b[1;33m[\u001b[0m\u001b[0mconsumed\u001b[0m\u001b[1;33m:\u001b[0m\u001b[1;33m]\u001b[0m\u001b[1;33m\u001b[0m\u001b[0m\n",
      "\u001b[1;31mUnicodeDecodeError\u001b[0m: 'utf-8' codec can't decode byte 0xeb in position 3: invalid continuation byte"
     ]
    }
   ],
   "source": [
    "# opended in text mode, can't read\n",
    "fp.read(10)"
   ]
  },
  {
   "cell_type": "code",
   "execution_count": 10,
   "metadata": {
    "collapsed": false
   },
   "outputs": [
    {
     "data": {
      "text/plain": [
       "<_io.BufferedReader name='/dev/random'>"
      ]
     },
     "execution_count": 10,
     "metadata": {},
     "output_type": "execute_result"
    }
   ],
   "source": [
    "fp = open('/dev/random', 'rb')\n",
    "fp"
   ]
  },
  {
   "cell_type": "code",
   "execution_count": 11,
   "metadata": {
    "collapsed": false
   },
   "outputs": [
    {
     "data": {
      "text/plain": [
       "b'm\\x1b\\xccH\\xb8\\xb5\\xd8n\\x93\\xd3'"
      ]
     },
     "execution_count": 11,
     "metadata": {},
     "output_type": "execute_result"
    }
   ],
   "source": [
    "fp.read(10)"
   ]
  },
  {
   "cell_type": "code",
   "execution_count": 12,
   "metadata": {
    "collapsed": false
   },
   "outputs": [
    {
     "data": {
      "text/plain": [
       "'rb'"
      ]
     },
     "execution_count": 12,
     "metadata": {},
     "output_type": "execute_result"
    }
   ],
   "source": [
    "fp.mode"
   ]
  },
  {
   "cell_type": "code",
   "execution_count": 13,
   "metadata": {
    "collapsed": false
   },
   "outputs": [
    {
     "data": {
      "text/plain": [
       "False"
      ]
     },
     "execution_count": 13,
     "metadata": {},
     "output_type": "execute_result"
    }
   ],
   "source": [
    "# mode not in object\n",
    "'mode' in vars(fp)"
   ]
  },
  {
   "cell_type": "code",
   "execution_count": 15,
   "metadata": {
    "collapsed": false
   },
   "outputs": [
    {
     "data": {
      "text/plain": [
       "True"
      ]
     },
     "execution_count": 15,
     "metadata": {},
     "output_type": "execute_result"
    }
   ],
   "source": [
    "# . lookup looks next in class\n",
    "'mode' in vars(fp.__class__)"
   ]
  },
  {
   "cell_type": "code",
   "execution_count": 16,
   "metadata": {
    "collapsed": false
   },
   "outputs": [
    {
     "data": {
      "text/plain": [
       "<function BufferedReader.readlines>"
      ]
     },
     "execution_count": 16,
     "metadata": {},
     "output_type": "execute_result"
    }
   ],
   "source": [
    "fp.readlines"
   ]
  },
  {
   "cell_type": "code",
   "execution_count": 17,
   "metadata": {
    "collapsed": false
   },
   "outputs": [
    {
     "data": {
      "text/plain": [
       "False"
      ]
     },
     "execution_count": 17,
     "metadata": {},
     "output_type": "execute_result"
    }
   ],
   "source": [
    "'readlines' in vars(fp.__class__)"
   ]
  },
  {
   "cell_type": "code",
   "execution_count": 18,
   "metadata": {
    "collapsed": false
   },
   "outputs": [
    {
     "data": {
      "text/plain": [
       "(_io._BufferedIOBase,)"
      ]
     },
     "execution_count": 18,
     "metadata": {},
     "output_type": "execute_result"
    }
   ],
   "source": [
    "fp.__class__.__bases__"
   ]
  },
  {
   "cell_type": "code",
   "execution_count": 19,
   "metadata": {
    "collapsed": false
   },
   "outputs": [
    {
     "data": {
      "text/plain": [
       "False"
      ]
     },
     "execution_count": 19,
     "metadata": {},
     "output_type": "execute_result"
    }
   ],
   "source": [
    "'readlines' in vars(fp.__class__.__bases__[0])"
   ]
  },
  {
   "cell_type": "code",
   "execution_count": 20,
   "metadata": {
    "collapsed": false
   },
   "outputs": [
    {
     "data": {
      "text/plain": [
       "(_io.BufferedReader, _io._BufferedIOBase, _io._IOBase, object)"
      ]
     },
     "execution_count": 20,
     "metadata": {},
     "output_type": "execute_result"
    }
   ],
   "source": [
    "fp.__class__.__mro__"
   ]
  },
  {
   "cell_type": "code",
   "execution_count": 21,
   "metadata": {
    "collapsed": false
   },
   "outputs": [
    {
     "name": "stdout",
     "output_type": "stream",
     "text": [
      "<class '_io._IOBase'>\n"
     ]
    }
   ],
   "source": [
    "# . lookup goes over the MRO (method resolution order)\n",
    "for cls in fp.__class__.__mro__:\n",
    "    if 'readlines' in vars(cls):\n",
    "        print(cls)\n",
    "        break\n",
    "else:\n",
    "    print('not found')"
   ]
  },
  {
   "cell_type": "code",
   "execution_count": 22,
   "metadata": {
    "collapsed": false
   },
   "outputs": [
    {
     "ename": "AttributeError",
     "evalue": "'_io.BufferedReader' object has no attribute 'no_such_attr'",
     "output_type": "error",
     "traceback": [
      "\u001b[1;31m---------------------------------------------------------------------------\u001b[0m",
      "\u001b[1;31mAttributeError\u001b[0m                            Traceback (most recent call last)",
      "\u001b[1;32m<ipython-input-22-b720f5a14a89>\u001b[0m in \u001b[0;36m<module>\u001b[1;34m()\u001b[0m\n\u001b[1;32m----> 1\u001b[1;33m \u001b[0mfp\u001b[0m\u001b[1;33m.\u001b[0m\u001b[0mno_such_attr\u001b[0m\u001b[1;33m\u001b[0m\u001b[0m\n\u001b[0m",
      "\u001b[1;31mAttributeError\u001b[0m: '_io.BufferedReader' object has no attribute 'no_such_attr'"
     ]
    }
   ],
   "source": [
    "# if . lookup don't find - it raises AttributeError\n",
    "fp.no_such_attr"
   ]
  },
  {
   "cell_type": "code",
   "execution_count": 23,
   "metadata": {
    "collapsed": true
   },
   "outputs": [],
   "source": [
    "# A descriptor is class implementing __get__ (can also have __set__ and __del__)\n",
    "class Desc:\n",
    "    def __get__(self, inst, owner):\n",
    "        print('__get__: inst: %r, owner: %r' % (inst, owner))\n",
    "    def __set__(self, inst, value):\n",
    "        print('__set__: inst: %r, value: %r' % (inst, value))\n",
    "        \n",
    "class Stock:\n",
    "    symbol = Desc()\n",
    "    \n",
    "s = Stock()"
   ]
  },
  {
   "cell_type": "code",
   "execution_count": 24,
   "metadata": {
    "collapsed": false
   },
   "outputs": [
    {
     "name": "stdout",
     "output_type": "stream",
     "text": [
      "__get__: inst: <__main__.Stock object at 0x7f7d1513a390>, owner: <class '__main__.Stock'>\n"
     ]
    }
   ],
   "source": [
    "s.symbol"
   ]
  },
  {
   "cell_type": "code",
   "execution_count": 25,
   "metadata": {
    "collapsed": false
   },
   "outputs": [
    {
     "name": "stdout",
     "output_type": "stream",
     "text": [
      "__get__: inst: None, owner: <class '__main__.Stock'>\n"
     ]
    }
   ],
   "source": [
    "Stock.symbol"
   ]
  },
  {
   "cell_type": "code",
   "execution_count": 26,
   "metadata": {
    "collapsed": false
   },
   "outputs": [
    {
     "name": "stdout",
     "output_type": "stream",
     "text": [
      "__set__: inst: <__main__.Stock object at 0x7f7d1513a390>, value: 'BRK.A'\n"
     ]
    }
   ],
   "source": [
    "s.symbol = 'BRK.A'"
   ]
  },
  {
   "cell_type": "code",
   "execution_count": 27,
   "metadata": {
    "collapsed": false
   },
   "outputs": [
    {
     "data": {
      "text/plain": [
       "Stock('BRK.A', 216298.8)"
      ]
     },
     "execution_count": 27,
     "metadata": {},
     "output_type": "execute_result"
    }
   ],
   "source": [
    "class Field:\n",
    "    def __init__(self):\n",
    "        self._value = None\n",
    "        \n",
    "    def __get__(self, inst, owner):\n",
    "        if inst is None:\n",
    "            return self\n",
    "        return self._value\n",
    "    \n",
    "    def __set__(self, inst, value):\n",
    "        self.assert_valid(value)\n",
    "        self._value = value\n",
    "        \n",
    "    def assert_valid(self, value):\n",
    "        pass\n",
    "    \n",
    "    \n",
    "class SymbolField(Field):\n",
    "    def assert_valid(self, value):\n",
    "        if not str.isupper(value):\n",
    "            raise ValueError('symbol must be upper case, got %r' % value)\n",
    "            \n",
    "class PriceField(Field):\n",
    "    def assert_valid(self, value):\n",
    "        if not isinstance(value, float):\n",
    "            raise TypeError('price must be float, not %s' % type(value))\n",
    "        if value <= 0:\n",
    "            raise ValueError('price must be > 0, got %.2f' % value)\n",
    "            \n",
    "class Stock:\n",
    "    symbol = SymbolField()\n",
    "    price = PriceField()\n",
    "    \n",
    "    def __init__(self, symbol, price):\n",
    "        self.symbol, self.price = symbol, price\n",
    "    def __repr__(self):\n",
    "        return 'Stock(%r, %r)' % (self.symbol, self.price)\n",
    "    \n",
    "brka = Stock('BRK.A', 216298.80)\n",
    "brka\n",
    "    "
   ]
  },
  {
   "cell_type": "code",
   "execution_count": 28,
   "metadata": {
    "collapsed": false
   },
   "outputs": [
    {
     "ename": "ValueError",
     "evalue": "price must be > 0, got -3.20",
     "output_type": "error",
     "traceback": [
      "\u001b[1;31m---------------------------------------------------------------------------\u001b[0m",
      "\u001b[1;31mValueError\u001b[0m                                Traceback (most recent call last)",
      "\u001b[1;32m<ipython-input-28-7756242ecbfb>\u001b[0m in \u001b[0;36m<module>\u001b[1;34m()\u001b[0m\n\u001b[1;32m----> 1\u001b[1;33m \u001b[0mbrka\u001b[0m\u001b[1;33m.\u001b[0m\u001b[0mprice\u001b[0m \u001b[1;33m=\u001b[0m \u001b[1;33m-\u001b[0m\u001b[1;36m3.2\u001b[0m\u001b[1;33m\u001b[0m\u001b[0m\n\u001b[0m",
      "\u001b[1;32m<ipython-input-27-01094972ef62>\u001b[0m in \u001b[0;36m__set__\u001b[1;34m(self, inst, value)\u001b[0m\n\u001b[0;32m      9\u001b[0m \u001b[1;33m\u001b[0m\u001b[0m\n\u001b[0;32m     10\u001b[0m     \u001b[1;32mdef\u001b[0m \u001b[0m__set__\u001b[0m\u001b[1;33m(\u001b[0m\u001b[0mself\u001b[0m\u001b[1;33m,\u001b[0m \u001b[0minst\u001b[0m\u001b[1;33m,\u001b[0m \u001b[0mvalue\u001b[0m\u001b[1;33m)\u001b[0m\u001b[1;33m:\u001b[0m\u001b[1;33m\u001b[0m\u001b[0m\n\u001b[1;32m---> 11\u001b[1;33m         \u001b[0mself\u001b[0m\u001b[1;33m.\u001b[0m\u001b[0massert_valid\u001b[0m\u001b[1;33m(\u001b[0m\u001b[0mvalue\u001b[0m\u001b[1;33m)\u001b[0m\u001b[1;33m\u001b[0m\u001b[0m\n\u001b[0m\u001b[0;32m     12\u001b[0m         \u001b[0mself\u001b[0m\u001b[1;33m.\u001b[0m\u001b[0m_value\u001b[0m \u001b[1;33m=\u001b[0m \u001b[0mvalue\u001b[0m\u001b[1;33m\u001b[0m\u001b[0m\n\u001b[0;32m     13\u001b[0m \u001b[1;33m\u001b[0m\u001b[0m\n",
      "\u001b[1;32m<ipython-input-27-01094972ef62>\u001b[0m in \u001b[0;36massert_valid\u001b[1;34m(self, value)\u001b[0m\n\u001b[0;32m     26\u001b[0m             \u001b[1;32mraise\u001b[0m \u001b[0mTypeError\u001b[0m\u001b[1;33m(\u001b[0m\u001b[1;34m'price must be float, not %s'\u001b[0m \u001b[1;33m%\u001b[0m \u001b[0mtype\u001b[0m\u001b[1;33m(\u001b[0m\u001b[0mvalue\u001b[0m\u001b[1;33m)\u001b[0m\u001b[1;33m)\u001b[0m\u001b[1;33m\u001b[0m\u001b[0m\n\u001b[0;32m     27\u001b[0m         \u001b[1;32mif\u001b[0m \u001b[0mvalue\u001b[0m \u001b[1;33m<=\u001b[0m \u001b[1;36m0\u001b[0m\u001b[1;33m:\u001b[0m\u001b[1;33m\u001b[0m\u001b[0m\n\u001b[1;32m---> 28\u001b[1;33m             \u001b[1;32mraise\u001b[0m \u001b[0mValueError\u001b[0m\u001b[1;33m(\u001b[0m\u001b[1;34m'price must be > 0, got %.2f'\u001b[0m \u001b[1;33m%\u001b[0m \u001b[0mvalue\u001b[0m\u001b[1;33m)\u001b[0m\u001b[1;33m\u001b[0m\u001b[0m\n\u001b[0m\u001b[0;32m     29\u001b[0m \u001b[1;33m\u001b[0m\u001b[0m\n\u001b[0;32m     30\u001b[0m \u001b[1;32mclass\u001b[0m \u001b[0mStock\u001b[0m\u001b[1;33m:\u001b[0m\u001b[1;33m\u001b[0m\u001b[0m\n",
      "\u001b[1;31mValueError\u001b[0m: price must be > 0, got -3.20"
     ]
    }
   ],
   "source": [
    "brka.price = -3.2"
   ]
  },
  {
   "cell_type": "code",
   "execution_count": 29,
   "metadata": {
    "collapsed": true
   },
   "outputs": [],
   "source": [
    "# DON'T DO, price won't be a descriptor any more\n",
    "# Stock.price = 7"
   ]
  },
  {
   "cell_type": "code",
   "execution_count": 30,
   "metadata": {
    "collapsed": false
   },
   "outputs": [
    {
     "data": {
      "text/plain": [
       "Stock('V', 97.48)"
      ]
     },
     "execution_count": 30,
     "metadata": {},
     "output_type": "execute_result"
    }
   ],
   "source": [
    "v = Stock('V', 97.48)\n",
    "v"
   ]
  },
  {
   "cell_type": "code",
   "execution_count": 31,
   "metadata": {
    "collapsed": false
   },
   "outputs": [
    {
     "data": {
      "text/plain": [
       "Stock('V', 97.48)"
      ]
     },
     "execution_count": 31,
     "metadata": {},
     "output_type": "execute_result"
    }
   ],
   "source": [
    "# _value is class attribute, shared among instances = Fields\n",
    "brka"
   ]
  },
  {
   "cell_type": "code",
   "execution_count": 32,
   "metadata": {
    "collapsed": false
   },
   "outputs": [
    {
     "data": {
      "text/plain": [
       "Stock(216298.8, 216298.8)"
      ]
     },
     "execution_count": 32,
     "metadata": {},
     "output_type": "execute_result"
    }
   ],
   "source": [
    "# 2'nd try = store in object\n",
    "class Field:\n",
    "    def __get__(self, inst, owner):\n",
    "        if inst is None:\n",
    "            return self\n",
    "        return getattr(inst, '_field')\n",
    "    \n",
    "    def __set__(self, inst, value):\n",
    "        self.assert_valid(value)\n",
    "        setattr(inst, '_field', value)\n",
    "        \n",
    "    def assert_valid(self, value):\n",
    "        pass\n",
    "    \n",
    "    \n",
    "class SymbolField(Field):\n",
    "    def assert_valid(self, value):\n",
    "        if not str.isupper(value):\n",
    "            raise ValueError('symbol must be upper case, got %r' % value)\n",
    "            \n",
    "class PriceField(Field):\n",
    "    def assert_valid(self, value):\n",
    "        if not isinstance(value, float):\n",
    "            raise TypeError('price must be float, not %s' % type(value))\n",
    "        if value <= 0:\n",
    "            raise ValueError('price must be > 0, got %.2f' % value)\n",
    "            \n",
    "class Stock:\n",
    "    symbol = SymbolField()\n",
    "    price = PriceField()\n",
    "    \n",
    "    def __init__(self, symbol, price):\n",
    "        self.symbol, self.price = symbol, price\n",
    "    \n",
    "    def __repr__(self):\n",
    "        return 'Stock(%r, %r)' % (self.symbol, self.price)\n",
    "\n",
    "brka = Stock('BRK.A', 216298.80)\n",
    "brka\n"
   ]
  },
  {
   "cell_type": "code",
   "execution_count": 33,
   "metadata": {
    "collapsed": false
   },
   "outputs": [
    {
     "data": {
      "text/plain": [
       "{'_field': 216298.8}"
      ]
     },
     "execution_count": 33,
     "metadata": {},
     "output_type": "execute_result"
    }
   ],
   "source": [
    "# Every descriptior is using _field, need unique name\n",
    "vars(brka)"
   ]
  },
  {
   "cell_type": "code",
   "execution_count": 34,
   "metadata": {
    "collapsed": false
   },
   "outputs": [
    {
     "data": {
      "text/plain": [
       "Stock('BRK.A', 216298.8)"
      ]
     },
     "execution_count": 34,
     "metadata": {},
     "output_type": "execute_result"
    }
   ],
   "source": [
    "# 3'rd try - use _attr per class\n",
    "class Field:\n",
    "    _attr = None\n",
    "    def __get__(self, inst, owner):\n",
    "        if inst is None:\n",
    "            return self\n",
    "        return getattr(inst, self._attr)\n",
    "    \n",
    "    def __set__(self, inst, value):\n",
    "        self.assert_valid(value)\n",
    "        setattr(inst, self._attr, value)\n",
    "        \n",
    "    def assert_valid(self, value):\n",
    "        pass\n",
    "    \n",
    "    \n",
    "class SymbolField(Field):\n",
    "    _attr = '_symbol'\n",
    "    def assert_valid(self, value):\n",
    "        if not str.isupper(value):\n",
    "            raise ValueError('symbol must be upper case, got %r' % value)\n",
    "            \n",
    "class PriceField(Field):\n",
    "    _attr = '_price'\n",
    "    def assert_valid(self, value):\n",
    "        if not isinstance(value, float):\n",
    "            raise TypeError('price must be float, not %s' % type(value))\n",
    "        if value <= 0:\n",
    "            raise ValueError('price must be > 0, got %.2f' % value)\n",
    "            \n",
    "class Stock:\n",
    "    symbol = SymbolField()\n",
    "    price = PriceField()\n",
    "    \n",
    "    def __init__(self, symbol, price):\n",
    "        self.symbol, self.price = symbol, price\n",
    "    \n",
    "    def __repr__(self):\n",
    "        return 'Stock(%r, %r)' % (self.symbol, self.price)\n",
    "\n",
    "brka = Stock('BRK.A', 216298.80)\n",
    "brka\n"
   ]
  },
  {
   "cell_type": "code",
   "execution_count": 35,
   "metadata": {
    "collapsed": false
   },
   "outputs": [
    {
     "data": {
      "text/plain": [
       "{'_price': 216298.8, '_symbol': 'BRK.A'}"
      ]
     },
     "execution_count": 35,
     "metadata": {},
     "output_type": "execute_result"
    }
   ],
   "source": [
    "vars(brka)"
   ]
  },
  {
   "cell_type": "code",
   "execution_count": 36,
   "metadata": {
    "collapsed": false
   },
   "outputs": [
    {
     "data": {
      "text/plain": [
       "Stock('BRK.A', 216297.8, 216297.8)"
      ]
     },
     "execution_count": 36,
     "metadata": {},
     "output_type": "execute_result"
    }
   ],
   "source": [
    "class Field:\n",
    "    _attr = None\n",
    "    def __get__(self, inst, owner):\n",
    "        if inst is None:\n",
    "            return self\n",
    "        return getattr(inst, self._attr)\n",
    "    \n",
    "    def __set__(self, inst, value):\n",
    "        self.assert_valid(value)\n",
    "        setattr(inst, self._attr, value)\n",
    "        \n",
    "    def assert_valid(self, value):\n",
    "        pass\n",
    "    \n",
    "    \n",
    "class SymbolField(Field):\n",
    "    _attr = '_symbol'\n",
    "    def assert_valid(self, value):\n",
    "        if not str.isupper(value):\n",
    "            raise ValueError('symbol must be upper case, got %r' % value)\n",
    "            \n",
    "class PriceField(Field):\n",
    "    _attr = '_price'\n",
    "    def assert_valid(self, value):\n",
    "        if not isinstance(value, float):\n",
    "            raise TypeError('price must be float, not %s' % type(value))\n",
    "        if value <= 0:\n",
    "            raise ValueError('price must be > 0, got %.2f' % value)\n",
    "            \n",
    "class Stock:\n",
    "    symbol = SymbolField()\n",
    "    price = PriceField()\n",
    "    low = PriceField()\n",
    "    \n",
    "    def __init__(self, symbol, price, low):\n",
    "        self.symbol, self.price, self.low = symbol, price, low\n",
    "    \n",
    "    def __repr__(self):\n",
    "        return 'Stock(%r, %r, %r)' % (self.symbol, self.price, self.low)\n",
    "\n",
    "brka = Stock('BRK.A', 216298.80, 216297.80)\n",
    "brka\n",
    "# Both price and low use _price in the object"
   ]
  },
  {
   "cell_type": "code",
   "execution_count": 37,
   "metadata": {
    "collapsed": false
   },
   "outputs": [
    {
     "data": {
      "text/plain": [
       "Stock('BRK.A', 216298.8, 216297.8)"
      ]
     },
     "execution_count": 37,
     "metadata": {},
     "output_type": "execute_result"
    }
   ],
   "source": [
    "# final version - using unique name per field\n",
    "# some people use a dict inside the object to hold all the descriptor fields - so __dict__ has only one extra key\n",
    "from itertools import count\n",
    "class Field:\n",
    "    _next_id = count().__next__\n",
    "    \n",
    "    def __init__(self):\n",
    "        self._attr = '_%s_%d' % (self.__class__.__name__, self._next_id())\n",
    "    \n",
    "    def __get__(self, inst, owner):\n",
    "        if inst is None:\n",
    "            return self\n",
    "        return getattr(inst, self._attr)\n",
    "    \n",
    "    def __set__(self, inst, value):\n",
    "        self.assert_valid(value)\n",
    "        setattr(inst, self._attr, value)\n",
    "        \n",
    "    def assert_valid(self, value):\n",
    "        pass\n",
    "    \n",
    "    \n",
    "class SymbolField(Field):\n",
    "    _attr = '_symbol'\n",
    "    def assert_valid(self, value):\n",
    "        if not str.isupper(value):\n",
    "            raise ValueError('symbol must be upper case, got %r' % value)\n",
    "            \n",
    "class PriceField(Field):\n",
    "    _attr = '_price'\n",
    "    def assert_valid(self, value):\n",
    "        if not isinstance(value, float):\n",
    "            raise TypeError('price must be float, not %s' % type(value))\n",
    "        if value <= 0:\n",
    "            raise ValueError('price must be > 0, got %.2f' % value)\n",
    "            \n",
    "class Stock:\n",
    "    symbol = SymbolField()\n",
    "    price = PriceField()\n",
    "    low = PriceField()\n",
    "    \n",
    "    def __init__(self, symbol, price, low):\n",
    "        self.symbol, self.price, self.low = symbol, price, low\n",
    "    \n",
    "    def __repr__(self):\n",
    "        return 'Stock(%r, %r, %r)' % (self.symbol, self.price, self.low)\n",
    "\n",
    "brka = Stock('BRK.A', 216298.80, 216297.80)\n",
    "brka\n"
   ]
  },
  {
   "cell_type": "code",
   "execution_count": 38,
   "metadata": {
    "collapsed": false
   },
   "outputs": [
    {
     "data": {
      "text/plain": [
       "{'_PriceField_1': 216298.8,\n",
       " '_PriceField_2': 216297.8,\n",
       " '_SymbolField_0': 'BRK.A'}"
      ]
     },
     "execution_count": 38,
     "metadata": {},
     "output_type": "execute_result"
    }
   ],
   "source": [
    "vars(brka)"
   ]
  },
  {
   "cell_type": "code",
   "execution_count": 39,
   "metadata": {
    "collapsed": false
   },
   "outputs": [
    {
     "data": {
      "text/plain": [
       "Point(1.0, 2.0)"
      ]
     },
     "execution_count": 39,
     "metadata": {},
     "output_type": "execute_result"
    }
   ],
   "source": [
    "# Python has classmethod for alternate initializer\n",
    "class Point:\n",
    "    def __init__(self, x, y):\n",
    "        self.x, self.y = x, y\n",
    "    \n",
    "    @classmethod\n",
    "    def from_str(cls, value):\n",
    "        \"\"\"From string in format 'x,y'\"\"\"\n",
    "        x, y = map(float, value.split(\",\"))\n",
    "        return cls(x, y)\n",
    "    \n",
    "    def __repr__(self):\n",
    "        return '%s(%r, %r)' % (self.__class__.__name__, self.x, self.y)\n",
    "    \n",
    "p = Point.from_str('1, 2')\n",
    "p"
   ]
  },
  {
   "cell_type": "code",
   "execution_count": 40,
   "metadata": {
    "collapsed": false
   },
   "outputs": [
    {
     "data": {
      "text/plain": [
       "117"
      ]
     },
     "execution_count": 40,
     "metadata": {},
     "output_type": "execute_result"
    }
   ],
   "source": [
    "# partial demo\n",
    "from functools import partial\n",
    "def add(x, y):\n",
    "    return x + y\n",
    "\n",
    "add7 = partial(add, 7)\n",
    "add7(110)"
   ]
  },
  {
   "cell_type": "code",
   "execution_count": 41,
   "metadata": {
    "collapsed": false
   },
   "outputs": [
    {
     "data": {
      "text/plain": [
       "Point(1.0, 2.0)"
      ]
     },
     "execution_count": 41,
     "metadata": {},
     "output_type": "execute_result"
    }
   ],
   "source": [
    "# Write our own classmethod using descriptor\n",
    "class ClassMethod:\n",
    "    def __init__(self, func):\n",
    "        self.func = func\n",
    "        \n",
    "    def __get__(self, inst, owner):\n",
    "        return partial(self.func, owner)\n",
    "    \n",
    "class Point:\n",
    "    def __init__(self, x, y):\n",
    "        self.x, self.y = x, y\n",
    "    \n",
    "    @ClassMethod\n",
    "    def from_str(cls, value):\n",
    "        \"\"\"From string in format 'x,y'\"\"\"\n",
    "        x, y = map(float, value.split(\",\"))\n",
    "        return cls(x, y)\n",
    "    \n",
    "    def __repr__(self):\n",
    "        return '%s(%r, %r)' % (self.__class__.__name__, self.x, self.y)\n",
    "    \n",
    "p = Point.from_str('1, 2')\n",
    "p"
   ]
  },
  {
   "cell_type": "code",
   "execution_count": 42,
   "metadata": {
    "collapsed": false
   },
   "outputs": [
    {
     "data": {
      "text/plain": [
       "'Hi, I am Tim. How are you?'"
      ]
     },
     "execution_count": 42,
     "metadata": {},
     "output_type": "execute_result"
    }
   ],
   "source": [
    "class Person:\n",
    "    def __init__(self, name):\n",
    "        self.name = name\n",
    "        \n",
    "    def greet(self):\n",
    "        return 'Hi, I am %s. How are you?' % self.name\n",
    "    \n",
    "p = Person('Tim')\n",
    "p.greet()"
   ]
  },
  {
   "cell_type": "code",
   "execution_count": 43,
   "metadata": {
    "collapsed": false
   },
   "outputs": [
    {
     "data": {
      "text/plain": [
       "<method-wrapper '__get__' of method object at 0x7f7d15228e08>"
      ]
     },
     "execution_count": 43,
     "metadata": {},
     "output_type": "execute_result"
    }
   ],
   "source": [
    "# Regular methods are descriptors\n",
    "p.greet.__get__"
   ]
  },
  {
   "cell_type": "code",
   "execution_count": 46,
   "metadata": {
    "collapsed": false
   },
   "outputs": [
    {
     "data": {
      "text/plain": [
       "'Hi, I am Tim. How are you?'"
      ]
     },
     "execution_count": 46,
     "metadata": {},
     "output_type": "execute_result"
    }
   ],
   "source": [
    "meth = p.greet.__get__(p, Person)\n",
    "meth()"
   ]
  },
  {
   "cell_type": "code",
   "execution_count": 47,
   "metadata": {
    "collapsed": false
   },
   "outputs": [
    {
     "data": {
      "text/plain": [
       "['__class__',\n",
       " '__del__',\n",
       " '__delattr__',\n",
       " '__dict__',\n",
       " '__dir__',\n",
       " '__doc__',\n",
       " '__enter__',\n",
       " '__eq__',\n",
       " '__exit__',\n",
       " '__format__',\n",
       " '__ge__',\n",
       " '__getattribute__',\n",
       " '__getstate__',\n",
       " '__gt__',\n",
       " '__hash__',\n",
       " '__init__',\n",
       " '__iter__',\n",
       " '__le__',\n",
       " '__lt__',\n",
       " '__ne__',\n",
       " '__new__',\n",
       " '__next__',\n",
       " '__reduce__',\n",
       " '__reduce_ex__',\n",
       " '__repr__',\n",
       " '__setattr__',\n",
       " '__sizeof__',\n",
       " '__str__',\n",
       " '__subclasshook__',\n",
       " '_checkClosed',\n",
       " '_checkReadable',\n",
       " '_checkSeekable',\n",
       " '_checkWritable',\n",
       " '_dealloc_warn',\n",
       " '_finalizing',\n",
       " 'close',\n",
       " 'closed',\n",
       " 'detach',\n",
       " 'fileno',\n",
       " 'flush',\n",
       " 'isatty',\n",
       " 'mode',\n",
       " 'name',\n",
       " 'peek',\n",
       " 'raw',\n",
       " 'read',\n",
       " 'read1',\n",
       " 'readable',\n",
       " 'readinto',\n",
       " 'readinto1',\n",
       " 'readline',\n",
       " 'readlines',\n",
       " 'seek',\n",
       " 'seekable',\n",
       " 'tell',\n",
       " 'truncate',\n",
       " 'writable',\n",
       " 'write',\n",
       " 'writelines']"
      ]
     },
     "execution_count": 47,
     "metadata": {},
     "output_type": "execute_result"
    }
   ],
   "source": [
    "# dir show all available attributes (unless you go funky with __getattr__ or __getattribute__)\n",
    "dir(fp)"
   ]
  },
  {
   "cell_type": "markdown",
   "metadata": {},
   "source": [
    "## Thank You!"
   ]
  },
  {
   "cell_type": "code",
   "execution_count": null,
   "metadata": {
    "collapsed": true
   },
   "outputs": [],
   "source": []
  }
 ],
 "metadata": {
  "kernelspec": {
   "display_name": "Python 3",
   "language": "python",
   "name": "python3"
  },
  "language_info": {
   "codemirror_mode": {
    "name": "ipython",
    "version": 3
   },
   "file_extension": ".py",
   "mimetype": "text/x-python",
   "name": "python",
   "nbconvert_exporter": "python",
   "pygments_lexer": "ipython3",
   "version": "3.5.1"
  }
 },
 "nbformat": 4,
 "nbformat_minor": 0
}

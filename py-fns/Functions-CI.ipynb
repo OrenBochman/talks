{
 "cells": [
  {
   "cell_type": "markdown",
   "metadata": {},
   "source": [
    "# Defining and Calling Python Functions\n",
    "### Miki Tebeka : CEO, CTO & UFO @ 353Solutions\n",
    "\n",
    "We're going to cover the many ways you can define and call functions in Python. I hope each of you will learn something new."
   ]
  },
  {
   "cell_type": "code",
   "execution_count": 1,
   "metadata": {
    "collapsed": false
   },
   "outputs": [
    {
     "name": "stdout",
     "output_type": "stream",
     "text": [
      "11/02/2015 22:00:05\n",
      "\n",
      "CPython 3.5.0\n",
      "IPython 4.0.0\n",
      "\n",
      "compiler   : GCC 5.2.0\n",
      "system     : Linux\n",
      "release    : 4.2.5-1-ARCH\n",
      "machine    : x86_64\n",
      "processor  : \n",
      "CPU cores  : 4\n",
      "interpreter: 64bit\n"
     ]
    }
   ],
   "source": [
    "%load_ext watermark\n",
    "%watermark"
   ]
  },
  {
   "cell_type": "code",
   "execution_count": 2,
   "metadata": {
    "collapsed": true
   },
   "outputs": [],
   "source": [
    "def sub(x, y):\n",
    "    \"\"\"Return the y's predecessor of x\"\"\"\n",
    "    return x - y"
   ]
  },
  {
   "cell_type": "code",
   "execution_count": 3,
   "metadata": {
    "collapsed": false
   },
   "outputs": [
    {
     "name": "stdout",
     "output_type": "stream",
     "text": [
      "-6\n",
      "-6\n",
      "-6\n"
     ]
    }
   ],
   "source": [
    "print(sub(1, 7))  # \"regular\" call\n",
    "print(sub(y=7, x=1)) # call with keyword arguments\n",
    "print(sub(1, y=7))  # mix & match"
   ]
  },
  {
   "cell_type": "code",
   "execution_count": 4,
   "metadata": {
    "collapsed": false
   },
   "outputs": [
    {
     "ename": "SyntaxError",
     "evalue": "positional argument follows keyword argument (<ipython-input-4-0b8706576d85>, line 2)",
     "output_type": "error",
     "traceback": [
      "\u001b[1;36m  File \u001b[1;32m\"<ipython-input-4-0b8706576d85>\"\u001b[1;36m, line \u001b[1;32m2\u001b[0m\n\u001b[1;33m    print(sub(y=7, 1))\u001b[0m\n\u001b[1;37m                  ^\u001b[0m\n\u001b[1;31mSyntaxError\u001b[0m\u001b[1;31m:\u001b[0m positional argument follows keyword argument\n"
     ]
    }
   ],
   "source": [
    "# however you can't\n",
    "print(sub(y=7, 1))"
   ]
  },
  {
   "cell_type": "code",
   "execution_count": 5,
   "metadata": {
    "collapsed": false
   },
   "outputs": [
    {
     "name": "stdout",
     "output_type": "stream",
     "text": [
      "-6\n"
     ]
    }
   ],
   "source": [
    "args = (1, 7)\n",
    "print(sub(*args))\n",
    "\n",
    "# * in function call unpacks sequence to positional"
   ]
  },
  {
   "cell_type": "code",
   "execution_count": 6,
   "metadata": {
    "collapsed": false
   },
   "outputs": [
    {
     "name": "stdout",
     "output_type": "stream",
     "text": [
      "()\n",
      "(1, 2, 3)\n",
      "(1, 2, 3, 4)\n"
     ]
    }
   ],
   "source": [
    "def vargs(*args):\n",
    "    print(args)\n",
    "    \n",
    "vargs()\n",
    "vargs(1,2,3)\n",
    "\n",
    "a, b = (1, 2), (3, 4)\n",
    "vargs(*a, *b)  # New in 3.5 (used to be: vargs(*(a+b)))\n",
    "\n",
    "# * in function definition packs positional to tuple"
   ]
  },
  {
   "cell_type": "code",
   "execution_count": 7,
   "metadata": {
    "collapsed": false
   },
   "outputs": [
    {
     "name": "stdout",
     "output_type": "stream",
     "text": [
      "-6\n"
     ]
    }
   ],
   "source": [
    "kw = {'x': 1, 'y': 7}\n",
    "print(sub(**kw))\n",
    "\n",
    "# ** in function call unpacks mapping to keyword args"
   ]
  },
  {
   "cell_type": "code",
   "execution_count": 8,
   "metadata": {
    "collapsed": false
   },
   "outputs": [
    {
     "name": "stdout",
     "output_type": "stream",
     "text": [
      "{}\n",
      "{'y': 2, 'x': 1}\n",
      "{'y': 2, 'a': 10, 'x': 1, 'b': 20}\n"
     ]
    }
   ],
   "source": [
    "def kwargs(**kw):\n",
    "    print(kw)\n",
    "    \n",
    "kwargs()\n",
    "kwargs(x=1, y=2)\n",
    "\n",
    "kw1, kw2 = {'x': 1, 'y': 2}, {'a': 10, 'b': 20}\n",
    "kwargs(**kw1, **kw2)  # New in 3.5 (can't have duplicate keys)\n",
    "\n",
    "# ** in function definition packs keyword args to dict"
   ]
  },
  {
   "cell_type": "code",
   "execution_count": 9,
   "metadata": {
    "collapsed": false
   },
   "outputs": [
    {
     "name": "stdout",
     "output_type": "stream",
     "text": [
      "()\n",
      "{}\n",
      "('bugs',)\n",
      "{}\n",
      "()\n",
      "{'taz': 'brown'}\n",
      "('daffy', 'taz')\n",
      "{'colors': ['black', 'brown']}\n"
     ]
    }
   ],
   "source": [
    "def eat_all(*args, **kw):\n",
    "    print(args)\n",
    "    print(kw)\n",
    "\n",
    "eat_all()\n",
    "eat_all('bugs')\n",
    "eat_all(taz='brown')\n",
    "eat_all('daffy', 'taz', colors=['black', 'brown'])\n",
    "\n",
    "# very bad design, mostly used in decorators"
   ]
  },
  {
   "cell_type": "code",
   "execution_count": 10,
   "metadata": {
    "collapsed": false
   },
   "outputs": [
    {
     "name": "stdout",
     "output_type": "stream",
     "text": [
      "-6\n",
      "-6\n"
     ]
    }
   ],
   "source": [
    "def sub(x, y=7):\n",
    "    return x - y\n",
    "\n",
    "print(sub(1, 7))\n",
    "print(sub(1))\n",
    "\n",
    "# use x=y to speficy default arguments"
   ]
  },
  {
   "cell_type": "code",
   "execution_count": 24,
   "metadata": {
    "collapsed": false
   },
   "outputs": [
    {
     "name": "stdout",
     "output_type": "stream",
     "text": [
      "[1]\n",
      "[1, 2]\n"
     ]
    }
   ],
   "source": [
    "def prappend(n, vals=[]):\n",
    "    vals.append(n)\n",
    "    print(vals)\n",
    "prappend(1)\n",
    "prappend(2)\n",
    "\n",
    "# default arguments are computed at definition time\n",
    "# NEVER USE MUTABLE DEFAULT ARGUMENTS"
   ]
  },
  {
   "cell_type": "code",
   "execution_count": 25,
   "metadata": {
    "collapsed": false
   },
   "outputs": [
    {
     "name": "stdout",
     "output_type": "stream",
     "text": [
      "[1]\n",
      "[2]\n"
     ]
    }
   ],
   "source": [
    "# fix to the above\n",
    "def prappend(n, vals=None):\n",
    "    vals = [] if vals is None else vals\n",
    "    vals.append(n)\n",
    "    print(vals)\n",
    "prappend(1)\n",
    "prappend(2)"
   ]
  },
  {
   "cell_type": "code",
   "execution_count": 11,
   "metadata": {
    "collapsed": false
   },
   "outputs": [
    {
     "data": {
      "text/plain": [
       "17"
      ]
     },
     "execution_count": 11,
     "metadata": {},
     "output_type": "execute_result"
    }
   ],
   "source": [
    "class subber:\n",
    "    def __init__(self, n):\n",
    "        self.n = n\n",
    "\n",
    "    def __call__(self, x):\n",
    "        return self.n + x\n",
    "\n",
    "sub10 = subber(10)\n",
    "sub10(7)\n",
    "\n",
    "# any object which implements __call__ can be used as a function\n",
    "# (yes, functions objects have __call__ as well)"
   ]
  },
  {
   "cell_type": "code",
   "execution_count": 12,
   "metadata": {
    "collapsed": false
   },
   "outputs": [
    {
     "data": {
      "text/plain": [
       "-6"
      ]
     },
     "execution_count": 12,
     "metadata": {},
     "output_type": "execute_result"
    }
   ],
   "source": [
    "def make_subber(n):\n",
    "    def subber(x):\n",
    "        return x - n\n",
    "    return subber\n",
    "\n",
    "sub7 = make_subber(7)\n",
    "sub7(1)\n",
    "\n",
    "# closure"
   ]
  },
  {
   "cell_type": "code",
   "execution_count": 13,
   "metadata": {
    "collapsed": false
   },
   "outputs": [
    {
     "ename": "UnboundLocalError",
     "evalue": "local variable 'ncalls' referenced before assignment",
     "output_type": "error",
     "traceback": [
      "\u001b[1;31m---------------------------------------------------------------------------\u001b[0m",
      "\u001b[1;31mUnboundLocalError\u001b[0m                         Traceback (most recent call last)",
      "\u001b[1;32m<ipython-input-13-6e94050ff17a>\u001b[0m in \u001b[0;36m<module>\u001b[1;34m()\u001b[0m\n\u001b[0;32m      4\u001b[0m     \u001b[1;32mreturn\u001b[0m \u001b[0mx\u001b[0m \u001b[1;33m+\u001b[0m \u001b[0my\u001b[0m\u001b[1;33m\u001b[0m\u001b[0m\n\u001b[0;32m      5\u001b[0m \u001b[1;33m\u001b[0m\u001b[0m\n\u001b[1;32m----> 6\u001b[1;33m \u001b[0msub\u001b[0m\u001b[1;33m(\u001b[0m\u001b[1;36m1\u001b[0m\u001b[1;33m,\u001b[0m \u001b[1;36m2\u001b[0m\u001b[1;33m)\u001b[0m  \u001b[1;31m# UnboundLocalError, can't reassign to global\u001b[0m\u001b[1;33m\u001b[0m\u001b[0m\n\u001b[0m",
      "\u001b[1;32m<ipython-input-13-6e94050ff17a>\u001b[0m in \u001b[0;36msub\u001b[1;34m(x, y)\u001b[0m\n\u001b[0;32m      1\u001b[0m \u001b[0mncalls\u001b[0m \u001b[1;33m=\u001b[0m \u001b[1;36m0\u001b[0m\u001b[1;33m\u001b[0m\u001b[0m\n\u001b[0;32m      2\u001b[0m \u001b[1;32mdef\u001b[0m \u001b[0msub\u001b[0m\u001b[1;33m(\u001b[0m\u001b[0mx\u001b[0m\u001b[1;33m,\u001b[0m \u001b[0my\u001b[0m\u001b[1;33m)\u001b[0m\u001b[1;33m:\u001b[0m\u001b[1;33m\u001b[0m\u001b[0m\n\u001b[1;32m----> 3\u001b[1;33m     \u001b[0mncalls\u001b[0m \u001b[1;33m+=\u001b[0m \u001b[1;36m1\u001b[0m\u001b[1;33m\u001b[0m\u001b[0m\n\u001b[0m\u001b[0;32m      4\u001b[0m     \u001b[1;32mreturn\u001b[0m \u001b[0mx\u001b[0m \u001b[1;33m+\u001b[0m \u001b[0my\u001b[0m\u001b[1;33m\u001b[0m\u001b[0m\n\u001b[0;32m      5\u001b[0m \u001b[1;33m\u001b[0m\u001b[0m\n",
      "\u001b[1;31mUnboundLocalError\u001b[0m: local variable 'ncalls' referenced before assignment"
     ]
    }
   ],
   "source": [
    "ncalls = 0\n",
    "def sub(x, y):\n",
    "    ncalls += 1\n",
    "    return x + y\n",
    "\n",
    "sub(1, 2)  # UnboundLocalError, can't reassign to global"
   ]
  },
  {
   "cell_type": "code",
   "execution_count": 14,
   "metadata": {
    "collapsed": false
   },
   "outputs": [
    {
     "name": "stdout",
     "output_type": "stream",
     "text": [
      "-6\n",
      "1\n"
     ]
    }
   ],
   "source": [
    "ncalls = 0\n",
    "def sub(x, y):\n",
    "    global ncalls\n",
    "    ncalls += 1\n",
    "    return x - y\n",
    "print(sub(1, 7))\n",
    "print(ncalls)\n",
    "\n",
    "# Use the \"global\" keyword for such things"
   ]
  },
  {
   "cell_type": "code",
   "execution_count": 15,
   "metadata": {
    "collapsed": false
   },
   "outputs": [
    {
     "name": "stdout",
     "output_type": "stream",
     "text": [
      "[1446494434.27457]\n"
     ]
    }
   ],
   "source": [
    "from time import time\n",
    "call_times = []\n",
    "def sub(x, y):\n",
    "    call_times.append(time())\n",
    "    return x - y\n",
    "sub(1, 7)\n",
    "print(call_times)\n",
    "\n",
    "# However you *can* mutate an object without using \"global\""
   ]
  },
  {
   "cell_type": "code",
   "execution_count": 16,
   "metadata": {
    "collapsed": false
   },
   "outputs": [
    {
     "name": "stdout",
     "output_type": "stream",
     "text": [
      "-6\n",
      "1 - 7 calculated\n",
      "-6\n"
     ]
    }
   ],
   "source": [
    "def sub(x, y, *, verbose=False):\n",
    "    if verbose:\n",
    "        print('%s - %s calculated' % (x,  y))\n",
    "    return x - y\n",
    "\n",
    "print(sub(1, 7))\n",
    "print(sub(1, 7, verbose=True))\n",
    "\n",
    "# * forces keyword argument only (see below), new in 3.5"
   ]
  },
  {
   "cell_type": "code",
   "execution_count": 17,
   "metadata": {
    "collapsed": false
   },
   "outputs": [
    {
     "ename": "TypeError",
     "evalue": "sub() takes 2 positional arguments but 3 were given",
     "output_type": "error",
     "traceback": [
      "\u001b[1;31m---------------------------------------------------------------------------\u001b[0m",
      "\u001b[1;31mTypeError\u001b[0m                                 Traceback (most recent call last)",
      "\u001b[1;32m<ipython-input-17-d3e05d6936c3>\u001b[0m in \u001b[0;36m<module>\u001b[1;34m()\u001b[0m\n\u001b[1;32m----> 1\u001b[1;33m \u001b[0msub\u001b[0m\u001b[1;33m(\u001b[0m\u001b[1;36m1\u001b[0m\u001b[1;33m,\u001b[0m \u001b[1;36m7\u001b[0m\u001b[1;33m,\u001b[0m \u001b[1;32mTrue\u001b[0m\u001b[1;33m)\u001b[0m\u001b[1;33m\u001b[0m\u001b[0m\n\u001b[0m",
      "\u001b[1;31mTypeError\u001b[0m: sub() takes 2 positional arguments but 3 were given"
     ]
    }
   ],
   "source": [
    "sub(1, 7, True)"
   ]
  },
  {
   "cell_type": "code",
   "execution_count": 18,
   "metadata": {
    "collapsed": false
   },
   "outputs": [
    {
     "name": "stdout",
     "output_type": "stream",
     "text": [
      "-6\n"
     ]
    },
    {
     "data": {
      "text/plain": [
       "{'return': int, 'x': int, 'y': int}"
      ]
     },
     "execution_count": 18,
     "metadata": {},
     "output_type": "execute_result"
    }
   ],
   "source": [
    "def sub(x: int, y: int) -> int:\n",
    "    return x - y\n",
    "\n",
    "print(sub(1, 7))\n",
    "sub.__annotations__\n",
    "\n",
    "# type annotation, just store information in __annotations__\n",
    "# new in 3.5"
   ]
  },
  {
   "cell_type": "code",
   "execution_count": 19,
   "metadata": {
    "collapsed": false
   },
   "outputs": [
    {
     "name": "stdout",
     "output_type": "stream",
     "text": [
      "<coroutine object sub at 0x7f32b86fffc0>\n"
     ]
    },
    {
     "name": "stderr",
     "output_type": "stream",
     "text": [
      "/usr/lib/python3.5/site-packages/ipykernel/__main__.py:4: RuntimeWarning: coroutine 'sub' was never awaited\n"
     ]
    }
   ],
   "source": [
    "async def sub(x, y):\n",
    "    return x - y\n",
    "\n",
    "print(sub(1, 7))\n",
    "\n",
    "# new in 3.5, see PEP 492"
   ]
  },
  {
   "cell_type": "code",
   "execution_count": 20,
   "metadata": {
    "collapsed": false
   },
   "outputs": [
    {
     "data": {
      "text/plain": [
       "TestResults(failed=0, attempted=2)"
      ]
     },
     "execution_count": 20,
     "metadata": {},
     "output_type": "execute_result"
    }
   ],
   "source": [
    "def sub(x, y):\n",
    "    \"\"\"Returns the y's predecessor to x\n",
    "\n",
    "    >>> sub(10, 3)\n",
    "    7\n",
    "    >>> sub(5, 22)\n",
    "    -17\n",
    "    \"\"\"\n",
    "    return x - y\n",
    "\n",
    "import doctest\n",
    "doctest.testmod()\n",
    "\n",
    "# You can write test in your docstring\n",
    "# nose, py.test and Sphinx can test your documentation"
   ]
  },
  {
   "cell_type": "code",
   "execution_count": 21,
   "metadata": {
    "collapsed": false
   },
   "outputs": [
    {
     "name": "stdout",
     "output_type": "stream",
     "text": [
      "<_sre.SRE_Match object; span=(0, 2), match=' #'>\n"
     ]
    }
   ],
   "source": [
    "import re\n",
    "\n",
    "is_comment = re.compile('^\\s*#').match\n",
    "print(is_comment(' # this is a comment'))\n",
    "\n",
    "# You can use bound methods as functions"
   ]
  },
  {
   "cell_type": "code",
   "execution_count": 22,
   "metadata": {
    "collapsed": false
   },
   "outputs": [
    {
     "data": {
      "text/plain": [
       "'how are you?'"
      ]
     },
     "execution_count": 22,
     "metadata": {},
     "output_type": "execute_result"
    }
   ],
   "source": [
    "from functools import partial\n",
    "\n",
    "compact_ws = partial(re.compile('\\s+').sub, ' ')\n",
    "compact_ws('how   are  \\t you?')\n",
    "\n",
    "# You can use functool.partial to create new functions\n",
    "# (AKA currying)"
   ]
  },
  {
   "cell_type": "code",
   "execution_count": 23,
   "metadata": {
    "collapsed": false
   },
   "outputs": [
    {
     "name": "stdout",
     "output_type": "stream",
     "text": [
      "sub took 0.10sec\n",
      "-6\n"
     ]
    }
   ],
   "source": [
    "from functools import wraps\n",
    "from time import time, sleep\n",
    "\n",
    "def timed(fn):\n",
    "    @wraps(fn)\n",
    "    def wrapper(*args, **kw):\n",
    "        start = time()\n",
    "        try:\n",
    "            return fn(*args, **kw)\n",
    "        finally:\n",
    "            print('%s took %.2fsec' % (fn.__name__, time() - start))\n",
    "    return wrapper\n",
    "            \n",
    "@timed\n",
    "def sub(x, y):\n",
    "    sleep(0.1)\n",
    "    return x - y\n",
    "\n",
    "print(sub(1, 7))\n",
    "\n",
    "# you can use decorators to add functionality to functions"
   ]
  },
  {
   "cell_type": "code",
   "execution_count": null,
   "metadata": {
    "collapsed": true
   },
   "outputs": [],
   "source": []
  }
 ],
 "metadata": {
  "kernelspec": {
   "display_name": "Python 3",
   "language": "python",
   "name": "python3"
  },
  "language_info": {
   "codemirror_mode": {
    "name": "ipython",
    "version": 3
   },
   "file_extension": ".py",
   "mimetype": "text/x-python",
   "name": "python",
   "nbconvert_exporter": "python",
   "pygments_lexer": "ipython3",
   "version": "3.5.0"
  }
 },
 "nbformat": 4,
 "nbformat_minor": 0
}
